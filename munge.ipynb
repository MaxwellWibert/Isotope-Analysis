{
 "cells": [
  {
   "cell_type": "code",
   "execution_count": 1,
   "metadata": {},
   "outputs": [],
   "source": [
    "import pandas as pd \n",
    "import os\n",
    "import datetime as dt"
   ]
  },
  {
   "cell_type": "code",
   "execution_count": 2,
   "metadata": {},
   "outputs": [
    {
     "output_type": "execute_result",
     "data": {
      "text/plain": "                   name                  Location        Coordinates  \\\nSite ID                                                                \n1        Bermuda Island   Bermuda Island, England   32°15’N, 64°52’W   \n2               Beijing            Beijing, China    40°0’N, 116°3’E   \n3              caborden            Borden, Canada     44°9′N, 79°6′W   \n4              Camargue  Vaccarès lagoon, France    43°35’N, 4°28’E   \n5                Dome C     Concordia, South Pole  75°06′S, 123°23′E   \n\n         Landscape Climate                   Reference  \\\nSite ID                                                  \n1            Coast     Dwa  Steen-Larsen et al. (2015)   \n2            Urban     Dwa           Wen et al. (2010)   \n3           forest     Dfb        Santos et al. (2012)   \n4          Wetland     Csb      Delattre et al. (2015)   \n5        Ice Sheet       -         Casado et al (2016)   \n\n                             Site PI Data Available  \nSite ID                                              \n1        Hans Christian Steen-Larsen       In prep.  \n2            Xuhui Lee and Xuefa Wen            Yes  \n3                          Xuhui Lee            Yes  \n4           Christine Vallet-Coulomb            Yes  \n5                     Mathieu Casado            Yes  ",
      "text/html": "<div>\n<style scoped>\n    .dataframe tbody tr th:only-of-type {\n        vertical-align: middle;\n    }\n\n    .dataframe tbody tr th {\n        vertical-align: top;\n    }\n\n    .dataframe thead th {\n        text-align: right;\n    }\n</style>\n<table border=\"1\" class=\"dataframe\">\n  <thead>\n    <tr style=\"text-align: right;\">\n      <th></th>\n      <th>name</th>\n      <th>Location</th>\n      <th>Coordinates</th>\n      <th>Landscape</th>\n      <th>Climate</th>\n      <th>Reference</th>\n      <th>Site PI</th>\n      <th>Data Available</th>\n    </tr>\n    <tr>\n      <th>Site ID</th>\n      <th></th>\n      <th></th>\n      <th></th>\n      <th></th>\n      <th></th>\n      <th></th>\n      <th></th>\n      <th></th>\n    </tr>\n  </thead>\n  <tbody>\n    <tr>\n      <td>1</td>\n      <td>Bermuda Island</td>\n      <td>Bermuda Island, England</td>\n      <td>32°15’N, 64°52’W</td>\n      <td>Coast</td>\n      <td>Dwa</td>\n      <td>Steen-Larsen et al. (2015)</td>\n      <td>Hans Christian Steen-Larsen</td>\n      <td>In prep.</td>\n    </tr>\n    <tr>\n      <td>2</td>\n      <td>Beijing</td>\n      <td>Beijing, China</td>\n      <td>40°0’N, 116°3’E</td>\n      <td>Urban</td>\n      <td>Dwa</td>\n      <td>Wen et al. (2010)</td>\n      <td>Xuhui Lee and Xuefa Wen</td>\n      <td>Yes</td>\n    </tr>\n    <tr>\n      <td>3</td>\n      <td>caborden</td>\n      <td>Borden, Canada</td>\n      <td>44°9′N, 79°6′W</td>\n      <td>forest</td>\n      <td>Dfb</td>\n      <td>Santos et al. (2012)</td>\n      <td>Xuhui Lee</td>\n      <td>Yes</td>\n    </tr>\n    <tr>\n      <td>4</td>\n      <td>Camargue</td>\n      <td>Vaccarès lagoon, France</td>\n      <td>43°35’N, 4°28’E</td>\n      <td>Wetland</td>\n      <td>Csb</td>\n      <td>Delattre et al. (2015)</td>\n      <td>Christine Vallet-Coulomb</td>\n      <td>Yes</td>\n    </tr>\n    <tr>\n      <td>5</td>\n      <td>Dome C</td>\n      <td>Concordia, South Pole</td>\n      <td>75°06′S, 123°23′E</td>\n      <td>Ice Sheet</td>\n      <td>-</td>\n      <td>Casado et al (2016)</td>\n      <td>Mathieu Casado</td>\n      <td>Yes</td>\n    </tr>\n  </tbody>\n</table>\n</div>"
     },
     "metadata": {},
     "execution_count": 2
    }
   ],
   "source": [
    "geoDF = pd.read_csv('./geodata.csv', index_col = 0)\n",
    "geoDF.head()"
   ]
  },
  {
   "cell_type": "code",
   "execution_count": 3,
   "metadata": {},
   "outputs": [],
   "source": [
    "def date_parser(dtcode):\n",
    "    stringform = str(dtcode)\n",
    "    dtobj = dt.datetime.strptime(stringform, \"%Y%m%d%H%M\")\n",
    "    return dtobj"
   ]
  },
  {
   "cell_type": "code",
   "execution_count": 4,
   "metadata": {},
   "outputs": [
    {
     "output_type": "execute_result",
     "data": {
      "text/plain": "name              object\nLocation          object\nCoordinates       object\nLandscape         object\nClimate           object\nReference         object\nSite PI           object\nData Available    object\ndtype: object"
     },
     "metadata": {},
     "execution_count": 4
    }
   ],
   "source": [
    "geoDF.name= geoDF.name.astype(str)\n",
    "geoDF.dtypes"
   ]
  },
  {
   "cell_type": "code",
   "execution_count": 5,
   "metadata": {},
   "outputs": [
    {
     "output_type": "stream",
     "name": "stdout",
     "text": "Index(['TIMESTAMP', 'Latitude', 'lontitude', 'Q', 'Delta_18O', 'Delta_18O_std',\n       'Delta_D', 'Delta_D_std', 'T', 'RH', 'P', 'Pricipitation', 'Rn', 'U',\n       'WD', 'name'],\n      dtype='object')\nIndex(['TIMESTAMP_START', 'TIMESTAMP_END', 'Q', 'Delta_18O', 'Delta_18O_std',\n       'Delta_D', 'Delta_D_std', 'T', 'RH', 'P', 'Preciptition', 'Rn', 'U',\n       'WD', 'T_ERA5', 'RH_ERA5', 'P_ERA5', 'Preciptition_ERA5', 'Rn_ERA5',\n       'U_ERA5', 'WD_ERA5', 'name'],\n      dtype='object')\nIndex(['TIMESTAMP', 'Latitude', 'lontitude', 'Q', 'Delta_18O', 'Delta_18O_std',\n       'Delta_D', 'Delta_D_std', 'T', 'RH', 'P', 'Pricipitation', 'Rn', 'U',\n       'WD', 'name'],\n      dtype='object')\nIndex(['TIMESTAMP_START', 'TIMESTAMP_END', 'Q', 'Delta_18O', 'Delta_18O_std',\n       'Delta_D', 'Delta_D_std', 'T', 'RH', 'P', 'Preciptition', 'Rn', 'U',\n       'WD', 'T_ERA5', 'RH_ERA5', 'P_ERA5', 'Preciptition_ERA5', 'Rn_ERA5',\n       'U_ERA5', 'WD_ERA5', 'name'],\n      dtype='object')\nIndex(['TIMESTAMP_START', 'TIMESTAMP_END', 'Q', 'Delta_18O', 'Delta_18O_std',\n       'Delta_D', 'Delta_D_std', 'T', 'RH', 'P', 'Preciptition', 'Rn', 'U',\n       'WD', 'T_ERA5', 'RH_ERA5', 'P_ERA5', 'Preciptition_ERA5', 'Rn_ERA5',\n       'U_ERA5', 'WD_ERA5', 'name'],\n      dtype='object')\nIndex(['TIMESTAMP_START', 'TIMESTAMP_END', 'Q', 'Delta_18O', 'Delta_18O_std',\n       'Delta_D', 'Delta_D_std', 'T', 'RH', 'P', 'Preciptition', 'Rn', 'U',\n       'WD', 'T_ERA5', 'RH_ERA5', 'P_ERA5', 'Preciptition_ERA5', 'Rn_ERA5',\n       'U_ERA5', 'WD_ERA5', 'name'],\n      dtype='object')\nIndex(['TIMESTAMP_START', 'TIMESTAMP_END', 'Q', 'Delta_18O', 'Delta_18O_std',\n       'Delta_D', 'Delta_D_std', 'T', 'RH', 'P', 'Preciptition', 'Rn', 'U',\n       'WD', 'T_ERA5', 'RH_ERA5', 'P_ERA5', 'Preciptition_ERA5', 'Rn_ERA5',\n       'U_ERA5', 'WD_ERA5', 'name'],\n      dtype='object')\nIndex(['TIMESTAMP', 'Latitude ', 'Longitude ', 'Q', 'Delta_18O',\n       'Delta_18O_std', 'Delta_D', 'Delta_D_std', 'Ta', 'RH', 'P',\n       'Pricipitation', 'Rn', 'U', 'WD', 'name'],\n      dtype='object')\nIndex(['TIMESTAMP_START', 'TIMESTAMP_END', 'Q', 'Delta_18O', 'Delta_18O_std',\n       'Delta_D', 'Delta_D_std', 'T', 'RH', 'P', 'Preciptition', 'Rn', 'U',\n       'WD', 'T_ERA5', 'RH_ERA5', 'P_ERA5', 'Preciptition_ERA5', 'Rn_ERA5',\n       'U_ERA5', 'WD_ERA5', 'name'],\n      dtype='object')\nIndex(['TIMESTAMP', 'Latitude', 'lontitude', 'Q', 'Delta_18O', 'Delta_18O_std',\n       'Delta_D', 'Delta_D_std', 'T', 'RH', 'P', 'Pricipitation', 'Rn',\n       'Wind_Speed', 'Wind_Direction', 'name'],\n      dtype='object')\nIndex(['TIMESTAMP_START', 'TIMESTAMP_END', 'Q', 'Delta_18O', 'Delta_18O_std',\n       'Delta_D', 'Delta_D_std', 'T', 'RH', 'P', 'Preciptition', 'Rn', 'U',\n       'WD', 'T_ERA5', 'RH_ERA5', 'P_ERA5', 'Preciptition_ERA5', 'Rn_ERA5',\n       'U_ERA5', 'WD_ERA5', 'name'],\n      dtype='object')\nIndex(['TIMESTAMP_START', 'TIMESTAMP_END', 'Q', 'Delta_18O', 'Delta_18O_std',\n       'Delta_D', 'Delta_D_std', 'T', 'RH', 'P', 'Preciptition', 'Rn', 'U',\n       'WD', 'T_ERA5', 'RH_ERA5', 'P_ERA5', 'Preciptition_ERA5', 'Rn_ERA5',\n       'U_ERA5', 'WD_ERA5', 'name'],\n      dtype='object')\nIndex(['TIMESTAMP_START', 'TIMESTAMP_END', 'Q', 'Delta_18O', 'Delta_18O_std',\n       'Delta_D', 'Delta_D_std', 'T', 'RH', 'P', 'Preciptition', 'Rn', 'U',\n       'WD', 'T_ERA5', 'RH_ERA5', 'P_ERA5', 'Preciptition_ERA5', 'Rn_ERA5',\n       'U_ERA5', 'WD_ERA5', 'name'],\n      dtype='object')\nIndex(['TIMESTAMP_START', 'TIMESTAMP_END', 'Q', 'Delta_18O', 'Delta_18O_std',\n       'Delta_D', 'Delta_D_std', 'T', 'RH', 'P', 'Preciptition', 'Rn', 'U',\n       'WD', 'T_ERA5', 'RH_ERA5', 'P_ERA5', 'Preciptition_ERA5', 'Rn_ERA5',\n       'U_ERA5', 'WD_ERA5', 'name'],\n      dtype='object')\nIndex(['TIMESTAMP', 'Latitude', 'lontitude', 'Q', 'Delta_18O', 'Delta_18O_std',\n       'Delta_D', 'Delta_D_std', 'T', 'RH', 'P', 'Pricipitation', 'Rn', 'U',\n       'WD', 'name'],\n      dtype='object')\nIndex(['TIMESTAMP', 'Q', 'Delta_18O', 'Delta_18O_std', 'Delta_D',\n       'Delta_D_std', 'T', 'RH', 'P', 'Pricipitation', 'Rn', 'U', 'WD',\n       'TIMESTAMP_precipitation', 'Precipitation at 10min',\n       'TIMESTAMP_pressure', 'pressure at 10min', 'name'],\n      dtype='object')\nIndex(['TIMESTAMP_START', 'TIMESTAMP_END', 'Q', 'Delta_18O', 'Delta_18O_std',\n       'Delta_D', 'Delta_D_std', 'T', 'RH', 'P', 'Preciptition', 'Rn', 'U',\n       'WD', 'T_ERA5', 'RH_ERA5', 'P_ERA5', 'Preciptition_ERA5', 'Rn_ERA5',\n       'U_ERA5', 'WD_ERA5', 'name'],\n      dtype='object')\nIndex(['TIMESTAMP_START', 'TIMESTAMP_END', 'Q', 'Delta_18O', 'Delta_18O_std',\n       'Delta_D', 'Delta_D_std', 'T', 'RH', 'P', 'Preciptition', 'Rn', 'U',\n       'WD', 'T_ERA5', 'RH_ERA5', 'P_ERA5', 'Preciptition_ERA5', 'Rn_ERA5',\n       'U_ERA5', 'WD_ERA5', 'name'],\n      dtype='object')\nIndex(['TIMESTAMP_START', 'TIMESTAMP_END', 'Q', 'Delta_18O', 'Delta_18O_std',\n       'Delta_D', 'Delta_D_std', 'T', 'RH', 'P', 'Preciptition', 'Rn', 'U',\n       'WD', 'T_ERA5', 'RH_ERA5', 'P_ERA5', 'Preciptition_ERA5', 'Rn_ERA5',\n       'U_ERA5', 'WD_ERA5', 'name'],\n      dtype='object')\nIndex(['TIMESTAMP_START', 'TIMESTAMP_END', 'Q', 'Delta_18O', 'Delta_18O_std',\n       'Delta_D', 'Delta_D_std', 'T', 'RH', 'P', 'Precipitation', 'Rn', 'U',\n       'WD', 'name'],\n      dtype='object')\nIndex(['TIMESTAMP_START', 'TIMESTAMP_END', 'Q', 'Delta_18O', 'Delta_18O_std',\n       'Delta_D', 'Delta_D_std', 'T', 'RH', 'P', 'Preciptition', 'Rn', 'U',\n       'WD', 'T_ERA5', 'RH_ERA5', 'P_ERA5', 'Preciptition_ERA5', 'Rn_ERA5',\n       'U_ERA5', 'WD_ERA5', 'name'],\n      dtype='object')\nIndex(['TIMESTAMP', 'Latitude', 'lontitude', 'Q', 'Delta_18O', 'Delta_18O_std',\n       'Delta_D', 'Delta_D_std', 'T', 'RH', 'P', 'Pricipitation', 'Rn', 'U',\n       'WD', 'name'],\n      dtype='object')\nIndex(['TIMESTAMP_START', 'TIMESTAMP_END', 'Q', 'Delta_18O', 'Delta_18O_std',\n       'Delta_D', 'Delta_D_std', 'T', 'RH', 'P', 'Preciptition', 'Rn', 'U',\n       'WD', 'T_ERA5', 'RH_ERA5', 'P_ERA5', 'Preciptition_ERA5', 'Rn_ERA5',\n       'U_ERA5', 'WD_ERA5', 'name'],\n      dtype='object')\nIndex(['TIMESTAMP_START', 'TIMESTAMP_END', 'Q', 'Delta_18O', 'Delta_18O_std',\n       'Delta_D', 'Delta_D_std', 'T', 'RH', 'P', 'Preciptition', 'Rn', 'U',\n       'WD', 'T_ERA5', 'RH_ERA5', 'P_ERA5', 'Preciptition_ERA5', 'Rn_ERA5',\n       'U_ERA5', 'WD_ERA5', 'name'],\n      dtype='object')\nIndex(['TIMESTAMP_START', 'TIMESTAMP_END', 'Q', 'Delta_18O', 'Delta_18O_std',\n       'Delta_D', 'Delta_D_std', 'T', 'RH', 'P', 'Precipitation', 'Rn', 'U',\n       'WD', 'name'],\n      dtype='object')\nIndex(['TIMESTAMP_START', 'TIMESTAMP_END', 'Q', 'Delta_18O', 'Delta_18O_std',\n       'Delta_D', 'Delta_D_std', 'T', 'RH', 'P', 'Preciptition', 'Rn', 'U',\n       'WD', 'T_ERA5', 'RH_ERA5', 'P_ERA5', 'Preciptition_ERA5', 'Rn_ERA5',\n       'U_ERA5', 'WD_ERA5', 'name'],\n      dtype='object')\nIndex(['TIMESTAMP_START', 'TIMESTAMP_END', 'Q', 'Delta_18O', 'Delta_18O_std',\n       'Delta_D', 'Delta_D_std', 'T', 'RH', 'P', 'Preciptition', 'Rn', 'U',\n       'WD', 'T_ERA5', 'RH_ERA5', 'P_ERA5', 'Preciptition_ERA5', 'Rn_ERA5',\n       'U_ERA5', 'WD_ERA5', 'name'],\n      dtype='object')\nIndex(['TIMESTAMP_START', 'TIMESTAMP_END', 'Q', 'Delta_18O', 'Delta_18O_std',\n       'Delta_D', 'Delta_D_std', 'T', 'RH', 'P', 'Preciptition', 'Rn', 'U',\n       'WD', 'T_ERA5', 'RH_ERA5', 'P_ERA5', 'Preciptition_ERA5', 'Rn_ERA5',\n       'U_ERA5', 'WD_ERA5', 'name'],\n      dtype='object')\nIndex(['TIMESTAMP_START', 'TIMESTAMP_END', 'Q', 'Delta_18O', 'Delta_18O_std',\n       'Delta_D', 'Delta_D_std', 'T', 'RH', 'P', 'Preciptition', 'Rn', 'U',\n       'WD', 'T_ERA5', 'RH_ERA5', 'P_ERA5', 'Preciptition_ERA5', 'Rn_ERA5',\n       'U_ERA5', 'WD_ERA5', 'name'],\n      dtype='object')\n"
    }
   ],
   "source": [
    "isodfs = []\n",
    "isopath = \"./isotope-data/\"\n",
    "for filename in os.listdir(isopath):\n",
    "    df = pd.read_csv(isopath + filename)\n",
    "    if 'Delta_18O' in df.columns and 'Delta_D' in df.columns:\n",
    "        df = df[df['Delta_18O'] != -9999]\n",
    "        df = df[df['Delta_D'] != -9999]\n",
    "        df['name'] = (filename[:-4])\n",
    "        df[\"name\"] = df['name'].astype(str)\n",
    "        if(len(df.index) > 0):\n",
    "            print(df.columns)\n",
    "            isodfs.append(df)\n"
   ]
  },
  {
   "cell_type": "code",
   "execution_count": 6,
   "metadata": {},
   "outputs": [
    {
     "output_type": "execute_result",
     "data": {
      "text/plain": "      TIMESTAMP  Latitude  lontitude      Q  Delta_18O  Delta_18O_std  \\\n0  201405011215     5.065     -4.000  18.03     -14.56          -9999   \n1  201405011230     5.018     -3.999  18.23     -14.23          -9999   \n2  201405011245     4.971     -3.997  18.51     -13.91          -9999   \n3  201405011300     4.923     -3.993  18.73     -13.63          -9999   \n4  201405011315     4.875     -3.990  18.72     -13.45          -9999   \n\n   Delta_D  Delta_D_std      T     RH        P  Pricipitation    Rn    U  \\\n0  -104.74        -9999  29.00  0.737    101.1          -9999 -9999  3.7   \n1  -102.42        -9999  28.91  0.751  101.086          -9999 -9999  3.8   \n2   -99.90        -9999  28.90  0.762  101.066          -9999 -9999  3.5   \n3   -97.58        -9999  28.90  0.769  101.042          -9999 -9999  3.8   \n4   -96.17        -9999  28.90  0.768  101.013          -9999 -9999  4.0   \n\n      WD           name  \n0  255.5  Ship-RARAAVIS  \n1  263.0  Ship-RARAAVIS  \n2  266.8  Ship-RARAAVIS  \n3  275.0  Ship-RARAAVIS  \n4  276.3  Ship-RARAAVIS  ",
      "text/html": "<div>\n<style scoped>\n    .dataframe tbody tr th:only-of-type {\n        vertical-align: middle;\n    }\n\n    .dataframe tbody tr th {\n        vertical-align: top;\n    }\n\n    .dataframe thead th {\n        text-align: right;\n    }\n</style>\n<table border=\"1\" class=\"dataframe\">\n  <thead>\n    <tr style=\"text-align: right;\">\n      <th></th>\n      <th>TIMESTAMP</th>\n      <th>Latitude</th>\n      <th>lontitude</th>\n      <th>Q</th>\n      <th>Delta_18O</th>\n      <th>Delta_18O_std</th>\n      <th>Delta_D</th>\n      <th>Delta_D_std</th>\n      <th>T</th>\n      <th>RH</th>\n      <th>P</th>\n      <th>Pricipitation</th>\n      <th>Rn</th>\n      <th>U</th>\n      <th>WD</th>\n      <th>name</th>\n    </tr>\n  </thead>\n  <tbody>\n    <tr>\n      <td>0</td>\n      <td>201405011215</td>\n      <td>5.065</td>\n      <td>-4.000</td>\n      <td>18.03</td>\n      <td>-14.56</td>\n      <td>-9999</td>\n      <td>-104.74</td>\n      <td>-9999</td>\n      <td>29.00</td>\n      <td>0.737</td>\n      <td>101.1</td>\n      <td>-9999</td>\n      <td>-9999</td>\n      <td>3.7</td>\n      <td>255.5</td>\n      <td>Ship-RARAAVIS</td>\n    </tr>\n    <tr>\n      <td>1</td>\n      <td>201405011230</td>\n      <td>5.018</td>\n      <td>-3.999</td>\n      <td>18.23</td>\n      <td>-14.23</td>\n      <td>-9999</td>\n      <td>-102.42</td>\n      <td>-9999</td>\n      <td>28.91</td>\n      <td>0.751</td>\n      <td>101.086</td>\n      <td>-9999</td>\n      <td>-9999</td>\n      <td>3.8</td>\n      <td>263.0</td>\n      <td>Ship-RARAAVIS</td>\n    </tr>\n    <tr>\n      <td>2</td>\n      <td>201405011245</td>\n      <td>4.971</td>\n      <td>-3.997</td>\n      <td>18.51</td>\n      <td>-13.91</td>\n      <td>-9999</td>\n      <td>-99.90</td>\n      <td>-9999</td>\n      <td>28.90</td>\n      <td>0.762</td>\n      <td>101.066</td>\n      <td>-9999</td>\n      <td>-9999</td>\n      <td>3.5</td>\n      <td>266.8</td>\n      <td>Ship-RARAAVIS</td>\n    </tr>\n    <tr>\n      <td>3</td>\n      <td>201405011300</td>\n      <td>4.923</td>\n      <td>-3.993</td>\n      <td>18.73</td>\n      <td>-13.63</td>\n      <td>-9999</td>\n      <td>-97.58</td>\n      <td>-9999</td>\n      <td>28.90</td>\n      <td>0.769</td>\n      <td>101.042</td>\n      <td>-9999</td>\n      <td>-9999</td>\n      <td>3.8</td>\n      <td>275.0</td>\n      <td>Ship-RARAAVIS</td>\n    </tr>\n    <tr>\n      <td>4</td>\n      <td>201405011315</td>\n      <td>4.875</td>\n      <td>-3.990</td>\n      <td>18.72</td>\n      <td>-13.45</td>\n      <td>-9999</td>\n      <td>-96.17</td>\n      <td>-9999</td>\n      <td>28.90</td>\n      <td>0.768</td>\n      <td>101.013</td>\n      <td>-9999</td>\n      <td>-9999</td>\n      <td>4.0</td>\n      <td>276.3</td>\n      <td>Ship-RARAAVIS</td>\n    </tr>\n  </tbody>\n</table>\n</div>"
     },
     "metadata": {},
     "execution_count": 6
    }
   ],
   "source": [
    "isodfs[0].head()"
   ]
  },
  {
   "cell_type": "code",
   "execution_count": 7,
   "metadata": {},
   "outputs": [
    {
     "output_type": "execute_result",
     "data": {
      "text/plain": "Delta_18O                  float64\nDelta_18O_std              float64\nDelta_D                    float64\nDelta_D_std                float64\nLatitude                   float64\nLatitude                   float64\nLongitude                  float64\nP                           object\nP_ERA5                     float64\nPrecipitation              float64\nPrecipitation at 10min     float64\nPreciptition               float64\nPreciptition_ERA5          float64\nPricipitation              float64\nQ                          float64\nRH                          object\nRH_ERA5                    float64\nRn                         float64\nRn_ERA5                    float64\nT                          float64\nTIMESTAMP                  float64\nTIMESTAMP_END              float64\nTIMESTAMP_START            float64\nTIMESTAMP_precipitation    float64\nTIMESTAMP_pressure         float64\nT_ERA5                     float64\nTa                         float64\nU                          float64\nU_ERA5                     float64\nWD                          object\nWD_ERA5                    float64\nWind_Direction             float64\nWind_Speed                 float64\nlontitude                  float64\nname                        object\npressure at 10min          float64\ndtype: object"
     },
     "metadata": {},
     "execution_count": 7
    }
   ],
   "source": [
    "megadf = pd.concat(isodfs)\n",
    "megadf.dtypes"
   ]
  },
  {
   "cell_type": "code",
   "execution_count": 8,
   "metadata": {},
   "outputs": [],
   "source": [
    "megadf.to_csv('./mega.csv')"
   ]
  },
  {
   "cell_type": "code",
   "execution_count": 50,
   "metadata": {},
   "outputs": [
    {
     "output_type": "stream",
     "name": "stdout",
     "text": "<class 'pandas.core.frame.DataFrame'>\n<class 'pandas.core.frame.DataFrame'>\n<class 'pandas.core.frame.DataFrame'>\n<class 'pandas.core.frame.DataFrame'>\n"
    }
   ],
   "source": [
    "smallisodfs = []\n",
    "isopath = \"./small-isotope-data/\"\n",
    "for filename in os.listdir(isopath):\n",
    "    df = pd.read_csv(isopath + filename)\n",
    "    if 'Delta_18O' in df.columns and 'Delta_D' in df.columns:\n",
    "        df = df[df['Delta_18O'] != -9999]\n",
    "        df = df[df['Delta_D'] != -9999]\n",
    "        name = (filename[:-4])\n",
    "        df['name'] = name\n",
    "        df[\"name\"] = df['name'].astype(str)\n",
    "        coords = pd.DataFrame(geoDF[geoDF['name'] == name]['Coordinates']).reindex().iloc[0,0]\n",
    "        lat,lng = coords.split(', ')\n",
    "        df['Latitude'] = lat\n",
    "        df['Longitude'] = lng\n",
    "        if 'TIMESTAMP_START' in df.columns:\n",
    "            df['TIMESTAMP'] = df['TIMESTAMP_START']\n",
    "        if(len(df.index) > 0):\n",
    "            print(type(df))\n",
    "            smallisodfs.append(df)"
   ]
  },
  {
   "cell_type": "code",
   "execution_count": 10,
   "metadata": {},
   "outputs": [
    {
     "output_type": "error",
     "ename": "NameError",
     "evalue": "name 's' is not defined",
     "traceback": [
      "\u001b[0;31m---------------------------------------------------------------------------\u001b[0m",
      "\u001b[0;31mNameError\u001b[0m                                 Traceback (most recent call last)",
      "\u001b[0;32m<ipython-input-10-c71df1a6e151>\u001b[0m in \u001b[0;36m<module>\u001b[0;34m\u001b[0m\n\u001b[0;32m----> 1\u001b[0;31m \u001b[0mlen\u001b[0m\u001b[0;34m(\u001b[0m\u001b[0ms\u001b[0m\u001b[0;34m)\u001b[0m\u001b[0;34m\u001b[0m\u001b[0;34m\u001b[0m\u001b[0m\n\u001b[0m",
      "\u001b[0;31mNameError\u001b[0m: name 's' is not defined"
     ]
    }
   ],
   "source": [
    "len(s)"
   ]
  },
  {
   "cell_type": "code",
   "execution_count": 11,
   "metadata": {},
   "outputs": [],
   "source": [
    "bordendf = pd.read_csv('./small-isotope-data/caborden.csv', delimiter='\\t')"
   ]
  },
  {
   "cell_type": "code",
   "execution_count": 12,
   "metadata": {},
   "outputs": [],
   "source": [
    "bordendf['name'] = 'caborden'\n",
    "coords = pd.DataFrame(geoDF[geoDF['name'] == 'caborden']['Coordinates']).reindex().iloc[0,0]\n",
    "lat,lng = coords.split(', ')\n"
   ]
  },
  {
   "cell_type": "code",
   "execution_count": 13,
   "metadata": {},
   "outputs": [],
   "source": [
    "bordendf.name = bordendf.name.astype(str)"
   ]
  },
  {
   "cell_type": "code",
   "execution_count": 14,
   "metadata": {},
   "outputs": [
    {
     "output_type": "execute_result",
     "data": {
      "text/plain": "   TIMESTAMP_START  TIMESTAMP_END       Q  Delta_18O  Delta_18O_std  Delta_D  \\\n0     200905010400   200905010459 -9999.0    -9999.0          -9999  -9999.0   \n1     200905010500   200905010559 -9999.0    -9999.0          -9999  -9999.0   \n2     200905010600   200905010659 -9999.0    -9999.0          -9999  -9999.0   \n3     200905010700   200905010759 -9999.0    -9999.0          -9999  -9999.0   \n4     200905010800   200905010859 -9999.0    -9999.0          -9999  -9999.0   \n\n   Delta_D_std      T     RH       P  ...       U      WD    T_ERA5   RH_ERA5  \\\n0        -9999  16.40  95.30  97.630  ...  4.5805  246.35  15.98426  0.934253   \n1        -9999  17.35  94.10  97.615  ...  4.1660  270.20  16.02437  0.930366   \n2        -9999  17.20  94.05  97.695  ...  2.9580  308.55  16.23067  0.929792   \n3        -9999  16.35  90.65  97.770  ...  3.2525  295.80  15.85245  0.929696   \n4        -9999  15.25  88.30  97.885  ...  3.7270  293.45  14.84006  0.931850   \n\n     P_ERA5  Preciptition_ERA5   Rn_ERA5    U_ERA5   WD_ERA5      name  \n0  96.50529           1.173124 -3.608120  5.602427  216.8862  caborden  \n1  96.45525           0.464768 -1.197811  5.111681  230.7968  caborden  \n2  96.51293           0.020962 -1.114031  4.836887  256.2281  caborden  \n3  96.57909           0.013011 -1.371818  5.182510  273.9816  caborden  \n4  96.66817           0.015902 -1.578047  5.456223  270.5747  caborden  \n\n[5 rows x 22 columns]",
      "text/html": "<div>\n<style scoped>\n    .dataframe tbody tr th:only-of-type {\n        vertical-align: middle;\n    }\n\n    .dataframe tbody tr th {\n        vertical-align: top;\n    }\n\n    .dataframe thead th {\n        text-align: right;\n    }\n</style>\n<table border=\"1\" class=\"dataframe\">\n  <thead>\n    <tr style=\"text-align: right;\">\n      <th></th>\n      <th>TIMESTAMP_START</th>\n      <th>TIMESTAMP_END</th>\n      <th>Q</th>\n      <th>Delta_18O</th>\n      <th>Delta_18O_std</th>\n      <th>Delta_D</th>\n      <th>Delta_D_std</th>\n      <th>T</th>\n      <th>RH</th>\n      <th>P</th>\n      <th>...</th>\n      <th>U</th>\n      <th>WD</th>\n      <th>T_ERA5</th>\n      <th>RH_ERA5</th>\n      <th>P_ERA5</th>\n      <th>Preciptition_ERA5</th>\n      <th>Rn_ERA5</th>\n      <th>U_ERA5</th>\n      <th>WD_ERA5</th>\n      <th>name</th>\n    </tr>\n  </thead>\n  <tbody>\n    <tr>\n      <td>0</td>\n      <td>200905010400</td>\n      <td>200905010459</td>\n      <td>-9999.0</td>\n      <td>-9999.0</td>\n      <td>-9999</td>\n      <td>-9999.0</td>\n      <td>-9999</td>\n      <td>16.40</td>\n      <td>95.30</td>\n      <td>97.630</td>\n      <td>...</td>\n      <td>4.5805</td>\n      <td>246.35</td>\n      <td>15.98426</td>\n      <td>0.934253</td>\n      <td>96.50529</td>\n      <td>1.173124</td>\n      <td>-3.608120</td>\n      <td>5.602427</td>\n      <td>216.8862</td>\n      <td>caborden</td>\n    </tr>\n    <tr>\n      <td>1</td>\n      <td>200905010500</td>\n      <td>200905010559</td>\n      <td>-9999.0</td>\n      <td>-9999.0</td>\n      <td>-9999</td>\n      <td>-9999.0</td>\n      <td>-9999</td>\n      <td>17.35</td>\n      <td>94.10</td>\n      <td>97.615</td>\n      <td>...</td>\n      <td>4.1660</td>\n      <td>270.20</td>\n      <td>16.02437</td>\n      <td>0.930366</td>\n      <td>96.45525</td>\n      <td>0.464768</td>\n      <td>-1.197811</td>\n      <td>5.111681</td>\n      <td>230.7968</td>\n      <td>caborden</td>\n    </tr>\n    <tr>\n      <td>2</td>\n      <td>200905010600</td>\n      <td>200905010659</td>\n      <td>-9999.0</td>\n      <td>-9999.0</td>\n      <td>-9999</td>\n      <td>-9999.0</td>\n      <td>-9999</td>\n      <td>17.20</td>\n      <td>94.05</td>\n      <td>97.695</td>\n      <td>...</td>\n      <td>2.9580</td>\n      <td>308.55</td>\n      <td>16.23067</td>\n      <td>0.929792</td>\n      <td>96.51293</td>\n      <td>0.020962</td>\n      <td>-1.114031</td>\n      <td>4.836887</td>\n      <td>256.2281</td>\n      <td>caborden</td>\n    </tr>\n    <tr>\n      <td>3</td>\n      <td>200905010700</td>\n      <td>200905010759</td>\n      <td>-9999.0</td>\n      <td>-9999.0</td>\n      <td>-9999</td>\n      <td>-9999.0</td>\n      <td>-9999</td>\n      <td>16.35</td>\n      <td>90.65</td>\n      <td>97.770</td>\n      <td>...</td>\n      <td>3.2525</td>\n      <td>295.80</td>\n      <td>15.85245</td>\n      <td>0.929696</td>\n      <td>96.57909</td>\n      <td>0.013011</td>\n      <td>-1.371818</td>\n      <td>5.182510</td>\n      <td>273.9816</td>\n      <td>caborden</td>\n    </tr>\n    <tr>\n      <td>4</td>\n      <td>200905010800</td>\n      <td>200905010859</td>\n      <td>-9999.0</td>\n      <td>-9999.0</td>\n      <td>-9999</td>\n      <td>-9999.0</td>\n      <td>-9999</td>\n      <td>15.25</td>\n      <td>88.30</td>\n      <td>97.885</td>\n      <td>...</td>\n      <td>3.7270</td>\n      <td>293.45</td>\n      <td>14.84006</td>\n      <td>0.931850</td>\n      <td>96.66817</td>\n      <td>0.015902</td>\n      <td>-1.578047</td>\n      <td>5.456223</td>\n      <td>270.5747</td>\n      <td>caborden</td>\n    </tr>\n  </tbody>\n</table>\n<p>5 rows × 22 columns</p>\n</div>"
     },
     "metadata": {},
     "execution_count": 14
    }
   ],
   "source": [
    "bordendf.head()"
   ]
  },
  {
   "cell_type": "code",
   "execution_count": 16,
   "metadata": {},
   "outputs": [
    {
     "output_type": "execute_result",
     "data": {
      "text/plain": "name              object\nLocation          object\nCoordinates       object\nLandscape         object\nClimate           object\nReference         object\nSite PI           object\nData Available    object\ndtype: object"
     },
     "metadata": {},
     "execution_count": 16
    }
   ],
   "source": [
    "geoDF.dtypes"
   ]
  },
  {
   "cell_type": "code",
   "execution_count": 49,
   "metadata": {},
   "outputs": [
    {
     "output_type": "error",
     "ename": "AttributeError",
     "evalue": "'int' object has no attribute 'columns'",
     "traceback": [
      "\u001b[0;31m---------------------------------------------------------------------------\u001b[0m",
      "\u001b[0;31mAttributeError\u001b[0m                            Traceback (most recent call last)",
      "\u001b[0;32m<ipython-input-49-855321b26474>\u001b[0m in \u001b[0;36m<module>\u001b[0;34m\u001b[0m\n\u001b[0;32m----> 1\u001b[0;31m \u001b[0mlen\u001b[0m\u001b[0;34m(\u001b[0m\u001b[0msmallisodfs\u001b[0m\u001b[0;34m)\u001b[0m\u001b[0;34m.\u001b[0m\u001b[0mcolumns\u001b[0m\u001b[0;34m\u001b[0m\u001b[0;34m\u001b[0m\u001b[0m\n\u001b[0m",
      "\u001b[0;31mAttributeError\u001b[0m: 'int' object has no attribute 'columns'"
     ]
    }
   ],
   "source": [
    "smallmegadf.columns"
   ]
  },
  {
   "cell_type": "code",
   "execution_count": 45,
   "metadata": {},
   "outputs": [
    {
     "output_type": "execute_result",
     "data": {
      "text/plain": "Index(['Delta_18O', 'Delta_18O_std', 'Delta_D', 'Delta_D_std', 'Latitude',\n       'Longitude', 'P', 'P_ERA5', 'Preciptition', 'Preciptition_ERA5',\n       'Pricipitation', 'Q', 'RH', 'RH_ERA5', 'Rn', 'Rn_ERA5', 'T',\n       'TIMESTAMP', 'TIMESTAMP_END', 'TIMESTAMP_START', 'T_ERA5', 'U',\n       'U_ERA5', 'WD', 'WD_ERA5', 'lontitude', 'name'],\n      dtype='object')"
     },
     "metadata": {},
     "execution_count": 45
    }
   ],
   "source": [
    "smallmegadf.columns"
   ]
  },
  {
   "cell_type": "code",
   "execution_count": 39,
   "metadata": {},
   "outputs": [],
   "source": [
    "smallmega2 = smallmegadf.filter(['Delta_18O','Delta_D','Latitude', 'Longitude', 'TIMESTAMP']).dropna()"
   ]
  },
  {
   "cell_type": "code",
   "execution_count": 42,
   "metadata": {},
   "outputs": [],
   "source": [
    "smallmega2.TIMESTAMP = smallmega2.TIMESTAMP.astype(int).astype(str)"
   ]
  },
  {
   "cell_type": "code",
   "execution_count": 44,
   "metadata": {},
   "outputs": [
    {
     "output_type": "execute_result",
     "data": {
      "text/plain": "Delta_18O    float64\nDelta_D      float64\nLatitude      object\nLongitude     object\nTIMESTAMP     object\ndtype: object"
     },
     "metadata": {},
     "execution_count": 44
    }
   ],
   "source": [
    "smallmega2.dtypes"
   ]
  },
  {
   "cell_type": "code",
   "execution_count": 46,
   "metadata": {},
   "outputs": [
    {
     "output_type": "execute_result",
     "data": {
      "text/plain": "      Delta_18O  Delta_D Latitude Longitude     TIMESTAMP\n0         -9.98   -73.57  32.054N  -64.430E  201208162215\n1         -9.96   -74.02  32.054N  -64.430E  201208162230\n2        -10.33   -76.59  32.054N  -64.430E  201208162245\n3        -10.37   -76.63  32.054N  -64.430E  201208162300\n4        -10.44   -76.76  32.054N  -64.430E  201208162315\n...         ...      ...      ...       ...           ...\n2657     -12.82   -92.33  32.054N  -64.430E  201209131430\n2658     -11.89   -85.69  32.054N  -64.430E  201209131445\n2659     -10.64   -77.92  32.054N  -64.430E  201209131500\n2660     -12.10   -86.74  32.054N  -64.430E  201209131515\n2661     -10.83   -79.08  32.054N  -64.430E  201209131530\n\n[2236 rows x 5 columns]",
      "text/html": "<div>\n<style scoped>\n    .dataframe tbody tr th:only-of-type {\n        vertical-align: middle;\n    }\n\n    .dataframe tbody tr th {\n        vertical-align: top;\n    }\n\n    .dataframe thead th {\n        text-align: right;\n    }\n</style>\n<table border=\"1\" class=\"dataframe\">\n  <thead>\n    <tr style=\"text-align: right;\">\n      <th></th>\n      <th>Delta_18O</th>\n      <th>Delta_D</th>\n      <th>Latitude</th>\n      <th>Longitude</th>\n      <th>TIMESTAMP</th>\n    </tr>\n  </thead>\n  <tbody>\n    <tr>\n      <td>0</td>\n      <td>-9.98</td>\n      <td>-73.57</td>\n      <td>32.054N</td>\n      <td>-64.430E</td>\n      <td>201208162215</td>\n    </tr>\n    <tr>\n      <td>1</td>\n      <td>-9.96</td>\n      <td>-74.02</td>\n      <td>32.054N</td>\n      <td>-64.430E</td>\n      <td>201208162230</td>\n    </tr>\n    <tr>\n      <td>2</td>\n      <td>-10.33</td>\n      <td>-76.59</td>\n      <td>32.054N</td>\n      <td>-64.430E</td>\n      <td>201208162245</td>\n    </tr>\n    <tr>\n      <td>3</td>\n      <td>-10.37</td>\n      <td>-76.63</td>\n      <td>32.054N</td>\n      <td>-64.430E</td>\n      <td>201208162300</td>\n    </tr>\n    <tr>\n      <td>4</td>\n      <td>-10.44</td>\n      <td>-76.76</td>\n      <td>32.054N</td>\n      <td>-64.430E</td>\n      <td>201208162315</td>\n    </tr>\n    <tr>\n      <td>...</td>\n      <td>...</td>\n      <td>...</td>\n      <td>...</td>\n      <td>...</td>\n      <td>...</td>\n    </tr>\n    <tr>\n      <td>2657</td>\n      <td>-12.82</td>\n      <td>-92.33</td>\n      <td>32.054N</td>\n      <td>-64.430E</td>\n      <td>201209131430</td>\n    </tr>\n    <tr>\n      <td>2658</td>\n      <td>-11.89</td>\n      <td>-85.69</td>\n      <td>32.054N</td>\n      <td>-64.430E</td>\n      <td>201209131445</td>\n    </tr>\n    <tr>\n      <td>2659</td>\n      <td>-10.64</td>\n      <td>-77.92</td>\n      <td>32.054N</td>\n      <td>-64.430E</td>\n      <td>201209131500</td>\n    </tr>\n    <tr>\n      <td>2660</td>\n      <td>-12.10</td>\n      <td>-86.74</td>\n      <td>32.054N</td>\n      <td>-64.430E</td>\n      <td>201209131515</td>\n    </tr>\n    <tr>\n      <td>2661</td>\n      <td>-10.83</td>\n      <td>-79.08</td>\n      <td>32.054N</td>\n      <td>-64.430E</td>\n      <td>201209131530</td>\n    </tr>\n  </tbody>\n</table>\n<p>2236 rows × 5 columns</p>\n</div>"
     },
     "metadata": {},
     "execution_count": 46
    }
   ],
   "source": [
    "smallmega2"
   ]
  },
  {
   "cell_type": "code",
   "execution_count": 47,
   "metadata": {},
   "outputs": [],
   "source": [
    "smallmega2.to_csv('./smallmega.csv')"
   ]
  },
  {
   "cell_type": "code",
   "execution_count": null,
   "metadata": {},
   "outputs": [],
   "source": []
  },
  {
   "cell_type": "code",
   "execution_count": null,
   "metadata": {},
   "outputs": [],
   "source": []
  }
 ],
 "metadata": {
  "language_info": {
   "codemirror_mode": {
    "name": "ipython",
    "version": 3
   },
   "file_extension": ".py",
   "mimetype": "text/x-python",
   "name": "python",
   "nbconvert_exporter": "python",
   "pygments_lexer": "ipython3",
   "version": "3.8.1-final"
  },
  "orig_nbformat": 2,
  "kernelspec": {
   "name": "15f108f3-5bc3-4783-89a4-11e07db949ed",
   "display_name": "'Python Interactive'"
  }
 },
 "nbformat": 4,
 "nbformat_minor": 2
}
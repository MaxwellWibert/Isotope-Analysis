{
 "cells": [
  {
   "cell_type": "code",
   "execution_count": 1,
   "metadata": {},
   "outputs": [],
   "source": [
    "import pandas as pd \n",
    "import os"
   ]
  },
  {
   "cell_type": "code",
   "execution_count": 2,
   "metadata": {},
   "outputs": [],
   "source": [
    "geoDF = pd.read_csv('./geodata.csv', index_col = 0)"
   ]
  },
  {
   "cell_type": "code",
   "execution_count": 3,
   "metadata": {},
   "outputs": [
    {
     "output_type": "execute_result",
     "data": {
      "text/plain": "              Site Name                  Location        Coordinates  \\\nSite ID                                                                \n1        Bermuda Island   Bermuda Island, England   32°15’N, 64°52’W   \n2               Beijing            Beijing, China    40°0’N, 116°3’E   \n3                Borden            Borden, Canada     44°9′N, 79°6′W   \n4              Camargue  Vaccarès lagoon, France    43°35’N, 4°28’E   \n5                Dome C     Concordia, South Pole  75°06′S, 123°23′E   \n\n         Landscape Climate                   Reference  \\\nSite ID                                                  \n1            Coast     Dwa  Steen-Larsen et al. (2015)   \n2            Urban     Dwa           Wen et al. (2010)   \n3           forest     Dfb        Santos et al. (2012)   \n4          Wetland     Csb      Delattre et al. (2015)   \n5        Ice Sheet       -         Casado et al (2016)   \n\n                             Site PI Data Available  \nSite ID                                              \n1        Hans Christian Steen-Larsen       In prep.  \n2            Xuhui Lee and Xuefa Wen            Yes  \n3                          Xuhui Lee            Yes  \n4           Christine Vallet-Coulomb            Yes  \n5                     Mathieu Casado            Yes  ",
      "text/html": "<div>\n<style scoped>\n    .dataframe tbody tr th:only-of-type {\n        vertical-align: middle;\n    }\n\n    .dataframe tbody tr th {\n        vertical-align: top;\n    }\n\n    .dataframe thead th {\n        text-align: right;\n    }\n</style>\n<table border=\"1\" class=\"dataframe\">\n  <thead>\n    <tr style=\"text-align: right;\">\n      <th></th>\n      <th>Site Name</th>\n      <th>Location</th>\n      <th>Coordinates</th>\n      <th>Landscape</th>\n      <th>Climate</th>\n      <th>Reference</th>\n      <th>Site PI</th>\n      <th>Data Available</th>\n    </tr>\n    <tr>\n      <th>Site ID</th>\n      <th></th>\n      <th></th>\n      <th></th>\n      <th></th>\n      <th></th>\n      <th></th>\n      <th></th>\n      <th></th>\n    </tr>\n  </thead>\n  <tbody>\n    <tr>\n      <td>1</td>\n      <td>Bermuda Island</td>\n      <td>Bermuda Island, England</td>\n      <td>32°15’N, 64°52’W</td>\n      <td>Coast</td>\n      <td>Dwa</td>\n      <td>Steen-Larsen et al. (2015)</td>\n      <td>Hans Christian Steen-Larsen</td>\n      <td>In prep.</td>\n    </tr>\n    <tr>\n      <td>2</td>\n      <td>Beijing</td>\n      <td>Beijing, China</td>\n      <td>40°0’N, 116°3’E</td>\n      <td>Urban</td>\n      <td>Dwa</td>\n      <td>Wen et al. (2010)</td>\n      <td>Xuhui Lee and Xuefa Wen</td>\n      <td>Yes</td>\n    </tr>\n    <tr>\n      <td>3</td>\n      <td>Borden</td>\n      <td>Borden, Canada</td>\n      <td>44°9′N, 79°6′W</td>\n      <td>forest</td>\n      <td>Dfb</td>\n      <td>Santos et al. (2012)</td>\n      <td>Xuhui Lee</td>\n      <td>Yes</td>\n    </tr>\n    <tr>\n      <td>4</td>\n      <td>Camargue</td>\n      <td>Vaccarès lagoon, France</td>\n      <td>43°35’N, 4°28’E</td>\n      <td>Wetland</td>\n      <td>Csb</td>\n      <td>Delattre et al. (2015)</td>\n      <td>Christine Vallet-Coulomb</td>\n      <td>Yes</td>\n    </tr>\n    <tr>\n      <td>5</td>\n      <td>Dome C</td>\n      <td>Concordia, South Pole</td>\n      <td>75°06′S, 123°23′E</td>\n      <td>Ice Sheet</td>\n      <td>-</td>\n      <td>Casado et al (2016)</td>\n      <td>Mathieu Casado</td>\n      <td>Yes</td>\n    </tr>\n  </tbody>\n</table>\n</div>"
     },
     "metadata": {},
     "execution_count": 3
    }
   ],
   "source": [
    "geoDF.head()"
   ]
  },
  {
   "cell_type": "code",
   "execution_count": 10,
   "metadata": {},
   "outputs": [
    {
     "output_type": "stream",
     "name": "stdout",
     "text": "./isotope-data/JP-Nagoya.csv\n./isotope-data/Ship-RARAAVIS.csv\nShip-RARAAVIS.csv has nontrivial data\n./isotope-data/SP-Teide.csv\nSP-Teide.csv has nontrivial data\n./isotope-data/Ship-PIRATAFR24.csv\nShip-PIRATAFR24.csv has nontrivial data\n./isotope-data/US-NewHaven.csv\nUS-NewHaven.csv has nontrivial data\n./isotope-data/CN-Gaoqiao.csv\nCN-Gaoqiao.csv has nontrivial data\n./isotope-data/AP-Kohnen.csv\nAP-Kohnen.csv has nontrivial data\n./isotope-data/CH-Rietholzbach.csv\nCH-Rietholzbach.csv has nontrivial data\n./isotope-data/AP-DomeC.csv\nAP-DomeC.csv has nontrivial data\n./isotope-data/Ship-JARE55.csv\nShip-JARE55.csv has nontrivial data\n./isotope-data/US-Rosemount_G21.csv\nUS-Rosemount_G21.csv has nontrivial data\n./isotope-data/Ship-Bermuda.csv\nShip-Bermuda.csv has nontrivial data\n./isotope-data/CN-Beijing.csv\nCN-Beijing.csv has nontrivial data\n./isotope-data/Ship-ACTIV.csv\nShip-ACTIV.csv has nontrivial data\n./isotope-data/RU-Kourovka.csv\nRU-Kourovka.csv has nontrivial data\n./isotope-data/US-ManitouForest.csv\nUS-ManitouForest.csv has nontrivial data\n./isotope-data/DE-Karlsruhe.csv\nDE-Karlsruhe.csv has nontrivial data\n./isotope-data/SP-Izana.csv\nSP-Izana.csv has nontrivial data\n./isotope-data/US-GreatMountain.csv\nUS-GreatMountain.csv has nontrivial data\n./isotope-data/AU-TrinityBeach.csv\nAU-TrinityBeach.csv has nontrivial data\n./isotope-data/JP-Mase.csv\nJP-Mase.csv has nontrivial data\n./isotope-data/ROC-Taibei.csv\nROC-Taibei.csv has nontrivial data\n./isotope-data/US-Rosemount_Talltower.csv\n./isotope-data/CN-Taihu.csv\nCN-Taihu.csv has nontrivial data\n./isotope-data/GL-NEEM.csv\nGL-NEEM.csv has nontrivial data\n./isotope-data/US-NiwotRidge.csv\nUS-NiwotRidge.csv has nontrivial data\n./isotope-data/Ship-STRASSE.csv\nShip-STRASSE.csv has nontrivial data\n./isotope-data/CN-Heihe.csv\nCN-Heihe.csv has nontrivial data\n./isotope-data/FR-Camargue.csv\nFR-Camargue.csv has nontrivial data\n./isotope-data/GL-Ivittuut.csv\nGL-Ivittuut.csv has nontrivial data\n./isotope-data/CN-Luancheng.csv\nCN-Luancheng.csv has nontrivial data\n./isotope-data/CN-Qianyanzhou.csv\nCN-Qianyanzhou.csv has nontrivial data\n./isotope-data/CN-Duolun.csv\nCN-Duolun.csv has nontrivial data\n./isotope-data/CA-Borden.csv\n./isotope-data/Flight-LasPalmas.csv\n./isotope-data/KE-Mapla.csv\n"
    }
   ],
   "source": [
    "isodfs = []\n",
    "isopath = \"./isotope-data/\"\n",
    "for filename in os.listdir(isopath):\n",
    "    print(isopath + filename)\n",
    "    df = pd.read_csv(isopath + filename)\n",
    "    if 'Delta_18O' in df.columns && 'Delta_D' in df.columns:\n",
    "        df = df[df['Delta_18O'] != -9999 && df['Delta_D']!= -9999]\n",
    "        if(len(df.index) > 0):\n",
    "            print(filename + \" has nontrivial data\")\n",
    "            isodfs.append(df)\n",
    "    "
   ]
  },
  {
   "cell_type": "code",
   "execution_count": 16,
   "metadata": {},
   "outputs": [
    {
     "output_type": "execute_result",
     "data": {
      "text/plain": "       TIMESTAMP_START  TIMESTAMP_END          Q  Delta_18O  Delta_18O_std  \\\n19        200312032300   200312032359  -9999.000 -34.756300   -9999.000000   \n20        200312040000   200312040059  -9999.000 -34.154000   -9999.000000   \n21        200312040100   200312040159  -9999.000 -31.897700   -9999.000000   \n22        200312040200   200312040259  -9999.000 -30.664000   -9999.000000   \n23        200312040300   200312040359  -9999.000 -28.262800   -9999.000000   \n...                ...            ...        ...        ...            ...   \n19580     200805312300   200805312359  16140.182 -12.348370       0.686665   \n19581     200806010000   200806010059  16334.498 -12.711785       1.206765   \n19582     200806010100   200806010159  14721.815 -12.161473       0.700791   \n19583     200806010200   200806010259  14686.496 -12.413896       0.843791   \n19584     200806010300   200806010359  14440.867 -12.882268       0.453357   \n\n           Delta_D  Delta_D_std     T    RH           P  ...          Rn  \\\n19    -9999.000000 -9999.000000  -3.3  0.40  103.250975  ... -9999.00000   \n20    -9999.000000 -9999.000000  -3.3  0.44  103.250975  ... -9999.00000   \n21    -9999.000000 -9999.000000  -6.7  0.62  103.217111  ... -9999.00000   \n22    -9999.000000 -9999.000000  -7.8  0.77  103.183247  ... -9999.00000   \n23    -9999.000000 -9999.000000  -3.9  0.50  103.183247  ... -9999.00000   \n...            ...          ...   ...   ...         ...  ...         ...   \n19580  -101.917010    19.997632  19.0  0.73   97.911000  ...   136.89200   \n19581  -116.074530    27.944969  18.9  0.84   97.911000  ...   106.26000   \n19582   -99.994028    19.447139  16.7  0.87   98.010000  ...   206.58800   \n19583   -93.973065    14.995728  17.2  0.81   98.010000  ...   119.37200   \n19584   -96.966572    16.403636  17.0  0.81   98.010000  ...    -2.13927   \n\n              U    WD      T_ERA5      RH_ERA5      P_ERA5  Preciptition_ERA5  \\\n19     2.572000   320 -9999.00000 -9999.000000 -9999.00000            -9999.0   \n20     2.572000 -9999 -9999.00000 -9999.000000 -9999.00000            -9999.0   \n21     2.057600    60 -9999.00000 -9999.000000 -9999.00000            -9999.0   \n22     0.000000     0 -9999.00000 -9999.000000 -9999.00000            -9999.0   \n23     1.543200 -9999 -9999.00000 -9999.000000 -9999.00000            -9999.0   \n...         ...   ...         ...          ...         ...                ...   \n19580  4.444444   150    18.59016     0.896827    99.80355                0.0   \n19581  4.444444   180    18.41288     0.900197    99.92703                0.0   \n19582  0.000000     0    18.00855     0.909255    99.96425                0.0   \n19583  2.666667   220    17.51061     0.913192    99.95241                0.0   \n19584  2.222222 -9999    17.31343     0.931636    99.94479                0.0   \n\n          Rn_ERA5       U_ERA5    WD_ERA5  \n19    -9999.00000 -9999.000000 -9999.0000  \n20    -9999.00000 -9999.000000 -9999.0000  \n21    -9999.00000 -9999.000000 -9999.0000  \n22    -9999.00000 -9999.000000 -9999.0000  \n23    -9999.00000 -9999.000000 -9999.0000  \n...           ...          ...        ...  \n19580   116.05460     6.002643   215.8927  \n19581    18.85889     4.194046   247.6961  \n19582   -30.18278     3.908118   244.2020  \n19583   -19.25548     4.637161   226.6708  \n19584   -33.38862     5.052195   235.9044  \n\n[17776 rows x 21 columns]",
      "text/html": "<div>\n<style scoped>\n    .dataframe tbody tr th:only-of-type {\n        vertical-align: middle;\n    }\n\n    .dataframe tbody tr th {\n        vertical-align: top;\n    }\n\n    .dataframe thead th {\n        text-align: right;\n    }\n</style>\n<table border=\"1\" class=\"dataframe\">\n  <thead>\n    <tr style=\"text-align: right;\">\n      <th></th>\n      <th>TIMESTAMP_START</th>\n      <th>TIMESTAMP_END</th>\n      <th>Q</th>\n      <th>Delta_18O</th>\n      <th>Delta_18O_std</th>\n      <th>Delta_D</th>\n      <th>Delta_D_std</th>\n      <th>T</th>\n      <th>RH</th>\n      <th>P</th>\n      <th>...</th>\n      <th>Rn</th>\n      <th>U</th>\n      <th>WD</th>\n      <th>T_ERA5</th>\n      <th>RH_ERA5</th>\n      <th>P_ERA5</th>\n      <th>Preciptition_ERA5</th>\n      <th>Rn_ERA5</th>\n      <th>U_ERA5</th>\n      <th>WD_ERA5</th>\n    </tr>\n  </thead>\n  <tbody>\n    <tr>\n      <td>19</td>\n      <td>200312032300</td>\n      <td>200312032359</td>\n      <td>-9999.000</td>\n      <td>-34.756300</td>\n      <td>-9999.000000</td>\n      <td>-9999.000000</td>\n      <td>-9999.000000</td>\n      <td>-3.3</td>\n      <td>0.40</td>\n      <td>103.250975</td>\n      <td>...</td>\n      <td>-9999.00000</td>\n      <td>2.572000</td>\n      <td>320</td>\n      <td>-9999.00000</td>\n      <td>-9999.000000</td>\n      <td>-9999.00000</td>\n      <td>-9999.0</td>\n      <td>-9999.00000</td>\n      <td>-9999.000000</td>\n      <td>-9999.0000</td>\n    </tr>\n    <tr>\n      <td>20</td>\n      <td>200312040000</td>\n      <td>200312040059</td>\n      <td>-9999.000</td>\n      <td>-34.154000</td>\n      <td>-9999.000000</td>\n      <td>-9999.000000</td>\n      <td>-9999.000000</td>\n      <td>-3.3</td>\n      <td>0.44</td>\n      <td>103.250975</td>\n      <td>...</td>\n      <td>-9999.00000</td>\n      <td>2.572000</td>\n      <td>-9999</td>\n      <td>-9999.00000</td>\n      <td>-9999.000000</td>\n      <td>-9999.00000</td>\n      <td>-9999.0</td>\n      <td>-9999.00000</td>\n      <td>-9999.000000</td>\n      <td>-9999.0000</td>\n    </tr>\n    <tr>\n      <td>21</td>\n      <td>200312040100</td>\n      <td>200312040159</td>\n      <td>-9999.000</td>\n      <td>-31.897700</td>\n      <td>-9999.000000</td>\n      <td>-9999.000000</td>\n      <td>-9999.000000</td>\n      <td>-6.7</td>\n      <td>0.62</td>\n      <td>103.217111</td>\n      <td>...</td>\n      <td>-9999.00000</td>\n      <td>2.057600</td>\n      <td>60</td>\n      <td>-9999.00000</td>\n      <td>-9999.000000</td>\n      <td>-9999.00000</td>\n      <td>-9999.0</td>\n      <td>-9999.00000</td>\n      <td>-9999.000000</td>\n      <td>-9999.0000</td>\n    </tr>\n    <tr>\n      <td>22</td>\n      <td>200312040200</td>\n      <td>200312040259</td>\n      <td>-9999.000</td>\n      <td>-30.664000</td>\n      <td>-9999.000000</td>\n      <td>-9999.000000</td>\n      <td>-9999.000000</td>\n      <td>-7.8</td>\n      <td>0.77</td>\n      <td>103.183247</td>\n      <td>...</td>\n      <td>-9999.00000</td>\n      <td>0.000000</td>\n      <td>0</td>\n      <td>-9999.00000</td>\n      <td>-9999.000000</td>\n      <td>-9999.00000</td>\n      <td>-9999.0</td>\n      <td>-9999.00000</td>\n      <td>-9999.000000</td>\n      <td>-9999.0000</td>\n    </tr>\n    <tr>\n      <td>23</td>\n      <td>200312040300</td>\n      <td>200312040359</td>\n      <td>-9999.000</td>\n      <td>-28.262800</td>\n      <td>-9999.000000</td>\n      <td>-9999.000000</td>\n      <td>-9999.000000</td>\n      <td>-3.9</td>\n      <td>0.50</td>\n      <td>103.183247</td>\n      <td>...</td>\n      <td>-9999.00000</td>\n      <td>1.543200</td>\n      <td>-9999</td>\n      <td>-9999.00000</td>\n      <td>-9999.000000</td>\n      <td>-9999.00000</td>\n      <td>-9999.0</td>\n      <td>-9999.00000</td>\n      <td>-9999.000000</td>\n      <td>-9999.0000</td>\n    </tr>\n    <tr>\n      <td>...</td>\n      <td>...</td>\n      <td>...</td>\n      <td>...</td>\n      <td>...</td>\n      <td>...</td>\n      <td>...</td>\n      <td>...</td>\n      <td>...</td>\n      <td>...</td>\n      <td>...</td>\n      <td>...</td>\n      <td>...</td>\n      <td>...</td>\n      <td>...</td>\n      <td>...</td>\n      <td>...</td>\n      <td>...</td>\n      <td>...</td>\n      <td>...</td>\n      <td>...</td>\n      <td>...</td>\n    </tr>\n    <tr>\n      <td>19580</td>\n      <td>200805312300</td>\n      <td>200805312359</td>\n      <td>16140.182</td>\n      <td>-12.348370</td>\n      <td>0.686665</td>\n      <td>-101.917010</td>\n      <td>19.997632</td>\n      <td>19.0</td>\n      <td>0.73</td>\n      <td>97.911000</td>\n      <td>...</td>\n      <td>136.89200</td>\n      <td>4.444444</td>\n      <td>150</td>\n      <td>18.59016</td>\n      <td>0.896827</td>\n      <td>99.80355</td>\n      <td>0.0</td>\n      <td>116.05460</td>\n      <td>6.002643</td>\n      <td>215.8927</td>\n    </tr>\n    <tr>\n      <td>19581</td>\n      <td>200806010000</td>\n      <td>200806010059</td>\n      <td>16334.498</td>\n      <td>-12.711785</td>\n      <td>1.206765</td>\n      <td>-116.074530</td>\n      <td>27.944969</td>\n      <td>18.9</td>\n      <td>0.84</td>\n      <td>97.911000</td>\n      <td>...</td>\n      <td>106.26000</td>\n      <td>4.444444</td>\n      <td>180</td>\n      <td>18.41288</td>\n      <td>0.900197</td>\n      <td>99.92703</td>\n      <td>0.0</td>\n      <td>18.85889</td>\n      <td>4.194046</td>\n      <td>247.6961</td>\n    </tr>\n    <tr>\n      <td>19582</td>\n      <td>200806010100</td>\n      <td>200806010159</td>\n      <td>14721.815</td>\n      <td>-12.161473</td>\n      <td>0.700791</td>\n      <td>-99.994028</td>\n      <td>19.447139</td>\n      <td>16.7</td>\n      <td>0.87</td>\n      <td>98.010000</td>\n      <td>...</td>\n      <td>206.58800</td>\n      <td>0.000000</td>\n      <td>0</td>\n      <td>18.00855</td>\n      <td>0.909255</td>\n      <td>99.96425</td>\n      <td>0.0</td>\n      <td>-30.18278</td>\n      <td>3.908118</td>\n      <td>244.2020</td>\n    </tr>\n    <tr>\n      <td>19583</td>\n      <td>200806010200</td>\n      <td>200806010259</td>\n      <td>14686.496</td>\n      <td>-12.413896</td>\n      <td>0.843791</td>\n      <td>-93.973065</td>\n      <td>14.995728</td>\n      <td>17.2</td>\n      <td>0.81</td>\n      <td>98.010000</td>\n      <td>...</td>\n      <td>119.37200</td>\n      <td>2.666667</td>\n      <td>220</td>\n      <td>17.51061</td>\n      <td>0.913192</td>\n      <td>99.95241</td>\n      <td>0.0</td>\n      <td>-19.25548</td>\n      <td>4.637161</td>\n      <td>226.6708</td>\n    </tr>\n    <tr>\n      <td>19584</td>\n      <td>200806010300</td>\n      <td>200806010359</td>\n      <td>14440.867</td>\n      <td>-12.882268</td>\n      <td>0.453357</td>\n      <td>-96.966572</td>\n      <td>16.403636</td>\n      <td>17.0</td>\n      <td>0.81</td>\n      <td>98.010000</td>\n      <td>...</td>\n      <td>-2.13927</td>\n      <td>2.222222</td>\n      <td>-9999</td>\n      <td>17.31343</td>\n      <td>0.931636</td>\n      <td>99.94479</td>\n      <td>0.0</td>\n      <td>-33.38862</td>\n      <td>5.052195</td>\n      <td>235.9044</td>\n    </tr>\n  </tbody>\n</table>\n<p>17776 rows × 21 columns</p>\n</div>"
     },
     "metadata": {},
     "execution_count": 16
    }
   ],
   "source": [
    "isodfs[3]"
   ]
  },
  {
   "cell_type": "code",
   "execution_count": null,
   "metadata": {},
   "outputs": [],
   "source": []
  }
 ],
 "metadata": {
  "language_info": {
   "codemirror_mode": {
    "name": "ipython",
    "version": 3
   },
   "file_extension": ".py",
   "mimetype": "text/x-python",
   "name": "python",
   "nbconvert_exporter": "python",
   "pygments_lexer": "ipython3",
   "version": "3.8.1-final"
  },
  "orig_nbformat": 2,
  "kernelspec": {
   "name": "15f108f3-5bc3-4783-89a4-11e07db949ed",
   "display_name": "'Python Interactive'"
  }
 },
 "nbformat": 4,
 "nbformat_minor": 2
}
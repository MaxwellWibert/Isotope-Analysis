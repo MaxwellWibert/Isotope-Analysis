{
 "cells": [
  {
   "cell_type": "code",
   "execution_count": 1,
   "metadata": {},
   "outputs": [],
   "source": [
    "import pandas as pd \n",
    "import os\n",
    "import datetime as dt"
   ]
  },
  {
   "cell_type": "code",
   "execution_count": 2,
   "metadata": {},
   "outputs": [
    {
     "output_type": "execute_result",
     "data": {
      "text/plain": "                   name                  Location        Coordinates  \\\nSite ID                                                                \n1        Bermuda Island   Bermuda Island, England   32°15’N, 64°52’W   \n2               Beijing            Beijing, China    40°0’N, 116°3’E   \n3              caborden            Borden, Canada     44°9′N, 79°6′W   \n4              Camargue  Vaccarès lagoon, France    43°35’N, 4°28’E   \n5                Dome C     Concordia, South Pole  75°06′S, 123°23′E   \n\n         Landscape Climate                   Reference  \\\nSite ID                                                  \n1            Coast     Dwa  Steen-Larsen et al. (2015)   \n2            Urban     Dwa           Wen et al. (2010)   \n3           forest     Dfb        Santos et al. (2012)   \n4          Wetland     Csb      Delattre et al. (2015)   \n5        Ice Sheet       -         Casado et al (2016)   \n\n                             Site PI Data Available  \nSite ID                                              \n1        Hans Christian Steen-Larsen       In prep.  \n2            Xuhui Lee and Xuefa Wen            Yes  \n3                          Xuhui Lee            Yes  \n4           Christine Vallet-Coulomb            Yes  \n5                     Mathieu Casado            Yes  ",
      "text/html": "<div>\n<style scoped>\n    .dataframe tbody tr th:only-of-type {\n        vertical-align: middle;\n    }\n\n    .dataframe tbody tr th {\n        vertical-align: top;\n    }\n\n    .dataframe thead th {\n        text-align: right;\n    }\n</style>\n<table border=\"1\" class=\"dataframe\">\n  <thead>\n    <tr style=\"text-align: right;\">\n      <th></th>\n      <th>name</th>\n      <th>Location</th>\n      <th>Coordinates</th>\n      <th>Landscape</th>\n      <th>Climate</th>\n      <th>Reference</th>\n      <th>Site PI</th>\n      <th>Data Available</th>\n    </tr>\n    <tr>\n      <th>Site ID</th>\n      <th></th>\n      <th></th>\n      <th></th>\n      <th></th>\n      <th></th>\n      <th></th>\n      <th></th>\n      <th></th>\n    </tr>\n  </thead>\n  <tbody>\n    <tr>\n      <td>1</td>\n      <td>Bermuda Island</td>\n      <td>Bermuda Island, England</td>\n      <td>32°15’N, 64°52’W</td>\n      <td>Coast</td>\n      <td>Dwa</td>\n      <td>Steen-Larsen et al. (2015)</td>\n      <td>Hans Christian Steen-Larsen</td>\n      <td>In prep.</td>\n    </tr>\n    <tr>\n      <td>2</td>\n      <td>Beijing</td>\n      <td>Beijing, China</td>\n      <td>40°0’N, 116°3’E</td>\n      <td>Urban</td>\n      <td>Dwa</td>\n      <td>Wen et al. (2010)</td>\n      <td>Xuhui Lee and Xuefa Wen</td>\n      <td>Yes</td>\n    </tr>\n    <tr>\n      <td>3</td>\n      <td>caborden</td>\n      <td>Borden, Canada</td>\n      <td>44°9′N, 79°6′W</td>\n      <td>forest</td>\n      <td>Dfb</td>\n      <td>Santos et al. (2012)</td>\n      <td>Xuhui Lee</td>\n      <td>Yes</td>\n    </tr>\n    <tr>\n      <td>4</td>\n      <td>Camargue</td>\n      <td>Vaccarès lagoon, France</td>\n      <td>43°35’N, 4°28’E</td>\n      <td>Wetland</td>\n      <td>Csb</td>\n      <td>Delattre et al. (2015)</td>\n      <td>Christine Vallet-Coulomb</td>\n      <td>Yes</td>\n    </tr>\n    <tr>\n      <td>5</td>\n      <td>Dome C</td>\n      <td>Concordia, South Pole</td>\n      <td>75°06′S, 123°23′E</td>\n      <td>Ice Sheet</td>\n      <td>-</td>\n      <td>Casado et al (2016)</td>\n      <td>Mathieu Casado</td>\n      <td>Yes</td>\n    </tr>\n  </tbody>\n</table>\n</div>"
     },
     "metadata": {},
     "execution_count": 2
    }
   ],
   "source": [
    "geoDF = pd.read_csv('./geodata.csv', index_col = 0)\n",
    "geoDF.head()"
   ]
  },
  {
   "cell_type": "code",
   "execution_count": 16,
   "metadata": {},
   "outputs": [],
   "source": []
  },
  {
   "cell_type": "code",
   "execution_count": 17,
   "metadata": {},
   "outputs": [
    {
     "output_type": "execute_result",
     "data": {
      "text/plain": "name              object\nLocation          object\nCoordinates       object\nLandscape         object\nClimate           object\nReference         object\nSite PI           object\nData Available    object\ndtype: object"
     },
     "metadata": {},
     "execution_count": 17
    }
   ],
   "source": [
    "geoDF.name= geoDF.name.astype(str)\n",
    "geoDF.dtypes"
   ]
  },
  {
   "cell_type": "code",
   "execution_count": 1,
   "metadata": {},
   "outputs": [
    {
     "output_type": "error",
     "ename": "SyntaxError",
     "evalue": "invalid syntax (<ipython-input-1-2d3a6ac7155a>, line 11)",
     "traceback": [
      "\u001b[0;36m  File \u001b[0;32m\"<ipython-input-1-2d3a6ac7155a>\"\u001b[0;36m, line \u001b[0;32m11\u001b[0m\n\u001b[0;31m    df.TIMESTAMP = df.TIMESTAMP.astype(int).astype(str)pend(df)\u001b[0m\n\u001b[0m                                                          ^\u001b[0m\n\u001b[0;31mSyntaxError\u001b[0m\u001b[0;31m:\u001b[0m invalid syntax\n"
     ]
    }
   ],
   "source": [
    "isodfs = []\n",
    "isopath = \"./isotope-data/\"\n",
    "for filename in os.listdir(isopath):\n",
    "    df = pd.read_csv(isopath + filename, encoding = \"iso-8859-1\")\n",
    "    if 'Delta_18O' in df.columns and 'Delta_D' in df.columns:\n",
    "        df = df[df['Delta_18O'] != -9999]\n",
    "        df = df[df['Delta_D'] != -9999]\n",
    "        if(len(df.index) > 0):\n",
    "            print(filename)\n",
    "            isodfs.ap\n",
    "        df.TIMESTAMP = df.TIMESTAMP.astype(int).astype(str)pend(df)\n"
   ]
  },
  {
   "cell_type": "code",
   "execution_count": 9,
   "metadata": {},
   "outputs": [
    {
     "output_type": "execute_result",
     "data": {
      "text/plain": "      TIMESTAMP  Delta_18O     Delta_D Latitude Longitude Landscape\n0  2.013060e+11 -13.640750 -126.381000    28.3N     16.5W  Mountain\n1  2.013060e+11 -15.774167 -145.946000    28.3N     16.5W  Mountain\n2  2.013060e+11 -20.673000 -182.658333    28.3N     16.5W  Mountain\n3  2.013060e+11 -25.917500 -223.841500    28.3N     16.5W  Mountain\n4  2.013060e+11 -26.898667 -231.194333    28.3N     16.5W  Mountain",
      "text/html": "<div>\n<style scoped>\n    .dataframe tbody tr th:only-of-type {\n        vertical-align: middle;\n    }\n\n    .dataframe tbody tr th {\n        vertical-align: top;\n    }\n\n    .dataframe thead th {\n        text-align: right;\n    }\n</style>\n<table border=\"1\" class=\"dataframe\">\n  <thead>\n    <tr style=\"text-align: right;\">\n      <th></th>\n      <th>TIMESTAMP</th>\n      <th>Delta_18O</th>\n      <th>Delta_D</th>\n      <th>Latitude</th>\n      <th>Longitude</th>\n      <th>Landscape</th>\n    </tr>\n  </thead>\n  <tbody>\n    <tr>\n      <td>0</td>\n      <td>2.013060e+11</td>\n      <td>-13.640750</td>\n      <td>-126.381000</td>\n      <td>28.3N</td>\n      <td>16.5W</td>\n      <td>Mountain</td>\n    </tr>\n    <tr>\n      <td>1</td>\n      <td>2.013060e+11</td>\n      <td>-15.774167</td>\n      <td>-145.946000</td>\n      <td>28.3N</td>\n      <td>16.5W</td>\n      <td>Mountain</td>\n    </tr>\n    <tr>\n      <td>2</td>\n      <td>2.013060e+11</td>\n      <td>-20.673000</td>\n      <td>-182.658333</td>\n      <td>28.3N</td>\n      <td>16.5W</td>\n      <td>Mountain</td>\n    </tr>\n    <tr>\n      <td>3</td>\n      <td>2.013060e+11</td>\n      <td>-25.917500</td>\n      <td>-223.841500</td>\n      <td>28.3N</td>\n      <td>16.5W</td>\n      <td>Mountain</td>\n    </tr>\n    <tr>\n      <td>4</td>\n      <td>2.013060e+11</td>\n      <td>-26.898667</td>\n      <td>-231.194333</td>\n      <td>28.3N</td>\n      <td>16.5W</td>\n      <td>Mountain</td>\n    </tr>\n  </tbody>\n</table>\n</div>"
     },
     "metadata": {},
     "execution_count": 9
    }
   ],
   "source": [
    "isodfs[0].head()"
   ]
  },
  {
   "cell_type": "code",
   "execution_count": 20,
   "metadata": {},
   "outputs": [
    {
     "output_type": "execute_result",
     "data": {
      "text/plain": "Delta_18O                  float64\nDelta_18O_std              float64\nDelta_D                    float64\nDelta_D_std                float64\nLatitude                   float64\nLatitude                   float64\nLongitude                  float64\nP                           object\nP_ERA5                     float64\nPrecipitation              float64\nPrecipitation at 10min     float64\nPreciptition               float64\nPreciptition_ERA5          float64\nPricipitation              float64\nQ                          float64\nRH                          object\nRH_ERA5                    float64\nRn                         float64\nRn_ERA5                    float64\nT                          float64\nTIMESTAMP                  float64\nTIMESTAMP_END              float64\nTIMESTAMP_START            float64\nTIMESTAMP_precipitation    float64\nTIMESTAMP_pressure         float64\nT_ERA5                     float64\nTa                         float64\nU                          float64\nU_ERA5                     float64\nWD                          object\nWD_ERA5                    float64\nWind_Direction             float64\nWind_Speed                 float64\nlontitude                  float64\nname                        object\npressure at 10min          float64\ndtype: object"
     },
     "metadata": {},
     "execution_count": 20
    }
   ],
   "source": [
    "megadf = pd.concat(isodfs)\n",
    "megadf.dtypes"
   ]
  },
  {
   "cell_type": "code",
   "execution_count": 21,
   "metadata": {},
   "outputs": [],
   "source": [
    "megadf.to_csv('./mega.csv')"
   ]
  },
  {
   "cell_type": "code",
   "execution_count": 22,
   "metadata": {},
   "outputs": [
    {
     "output_type": "stream",
     "name": "stdout",
     "text": "<class 'pandas.core.frame.DataFrame'>\n<class 'pandas.core.frame.DataFrame'>\n<class 'pandas.core.frame.DataFrame'>\n<class 'pandas.core.frame.DataFrame'>\n"
    }
   ],
   "source": [
    "smallisodfs = []\n",
    "isopath = \"./small-isotope-data/\"\n",
    "for filename in os.listdir(isopath):\n",
    "    df = pd.read_csv(isopath + filename)\n",
    "    if 'Delta_18O' in df.columns and 'Delta_D' in df.columns:\n",
    "        df = df[df['Delta_18O'] != -9999]\n",
    "        df = df[df['Delta_D'] != -9999]\n",
    "        name = (filename[:-4])\n",
    "        df['name'] = name\n",
    "        df[\"name\"] = df['name'].astype(str)\n",
    "        coords = pd.DataFrame(geoDF[geoDF['name'] == name]['Coordinates']).reindex().iloc[0,0]\n",
    "        lat,lng = coords.split(', ')\n",
    "        df['Latitude'] = lat\n",
    "        df['Longitude'] = lng\n",
    "        if 'TIMESTAMP_START' in df.columns:\n",
    "            df['TIMESTAMP'] = df['TIMESTAMP_START']\n",
    "        if(len(df.index) > 0):\n",
    "            print(type(df))\n",
    "            smallisodfs.append(df)"
   ]
  },
  {
   "cell_type": "code",
   "execution_count": 23,
   "metadata": {},
   "outputs": [
    {
     "output_type": "error",
     "ename": "NameError",
     "evalue": "name 's' is not defined",
     "traceback": [
      "\u001b[0;31m---------------------------------------------------------------------------\u001b[0m",
      "\u001b[0;31mNameError\u001b[0m                                 Traceback (most recent call last)",
      "\u001b[0;32m<ipython-input-23-c71df1a6e151>\u001b[0m in \u001b[0;36m<module>\u001b[0;34m\u001b[0m\n\u001b[0;32m----> 1\u001b[0;31m \u001b[0mlen\u001b[0m\u001b[0;34m(\u001b[0m\u001b[0ms\u001b[0m\u001b[0;34m)\u001b[0m\u001b[0;34m\u001b[0m\u001b[0;34m\u001b[0m\u001b[0m\n\u001b[0m",
      "\u001b[0;31mNameError\u001b[0m: name 's' is not defined"
     ]
    }
   ],
   "source": []
  },
  {
   "cell_type": "code",
   "execution_count": 24,
   "metadata": {},
   "outputs": [],
   "source": [
    "bordendf = pd.read_csv('./small-isotope-data/caborden.csv', delimiter='\\t')"
   ]
  },
  {
   "cell_type": "code",
   "execution_count": 25,
   "metadata": {},
   "outputs": [],
   "source": [
    "bordendf['name'] = 'caborden'\n",
    "coords = pd.DataFrame(geoDF[geoDF['name'] == 'caborden']['Coordinates']).reindex().iloc[0,0]\n",
    "lat,lng = coords.split(', ')\n"
   ]
  },
  {
   "cell_type": "code",
   "execution_count": 26,
   "metadata": {},
   "outputs": [],
   "source": [
    "bordendf.name = bordendf.name.astype(str)"
   ]
  },
  {
   "cell_type": "code",
   "execution_count": 27,
   "metadata": {},
   "outputs": [
    {
     "output_type": "execute_result",
     "data": {
      "text/plain": "   TIMESTAMP_START  TIMESTAMP_END       Q  Delta_18O  Delta_18O_std  Delta_D  \\\n0     200905010400   200905010459 -9999.0    -9999.0          -9999  -9999.0   \n1     200905010500   200905010559 -9999.0    -9999.0          -9999  -9999.0   \n2     200905010600   200905010659 -9999.0    -9999.0          -9999  -9999.0   \n3     200905010700   200905010759 -9999.0    -9999.0          -9999  -9999.0   \n4     200905010800   200905010859 -9999.0    -9999.0          -9999  -9999.0   \n\n   Delta_D_std      T     RH       P  ...       U      WD    T_ERA5   RH_ERA5  \\\n0        -9999  16.40  95.30  97.630  ...  4.5805  246.35  15.98426  0.934253   \n1        -9999  17.35  94.10  97.615  ...  4.1660  270.20  16.02437  0.930366   \n2        -9999  17.20  94.05  97.695  ...  2.9580  308.55  16.23067  0.929792   \n3        -9999  16.35  90.65  97.770  ...  3.2525  295.80  15.85245  0.929696   \n4        -9999  15.25  88.30  97.885  ...  3.7270  293.45  14.84006  0.931850   \n\n     P_ERA5  Preciptition_ERA5   Rn_ERA5    U_ERA5   WD_ERA5      name  \n0  96.50529           1.173124 -3.608120  5.602427  216.8862  caborden  \n1  96.45525           0.464768 -1.197811  5.111681  230.7968  caborden  \n2  96.51293           0.020962 -1.114031  4.836887  256.2281  caborden  \n3  96.57909           0.013011 -1.371818  5.182510  273.9816  caborden  \n4  96.66817           0.015902 -1.578047  5.456223  270.5747  caborden  \n\n[5 rows x 22 columns]",
      "text/html": "<div>\n<style scoped>\n    .dataframe tbody tr th:only-of-type {\n        vertical-align: middle;\n    }\n\n    .dataframe tbody tr th {\n        vertical-align: top;\n    }\n\n    .dataframe thead th {\n        text-align: right;\n    }\n</style>\n<table border=\"1\" class=\"dataframe\">\n  <thead>\n    <tr style=\"text-align: right;\">\n      <th></th>\n      <th>TIMESTAMP_START</th>\n      <th>TIMESTAMP_END</th>\n      <th>Q</th>\n      <th>Delta_18O</th>\n      <th>Delta_18O_std</th>\n      <th>Delta_D</th>\n      <th>Delta_D_std</th>\n      <th>T</th>\n      <th>RH</th>\n      <th>P</th>\n      <th>...</th>\n      <th>U</th>\n      <th>WD</th>\n      <th>T_ERA5</th>\n      <th>RH_ERA5</th>\n      <th>P_ERA5</th>\n      <th>Preciptition_ERA5</th>\n      <th>Rn_ERA5</th>\n      <th>U_ERA5</th>\n      <th>WD_ERA5</th>\n      <th>name</th>\n    </tr>\n  </thead>\n  <tbody>\n    <tr>\n      <td>0</td>\n      <td>200905010400</td>\n      <td>200905010459</td>\n      <td>-9999.0</td>\n      <td>-9999.0</td>\n      <td>-9999</td>\n      <td>-9999.0</td>\n      <td>-9999</td>\n      <td>16.40</td>\n      <td>95.30</td>\n      <td>97.630</td>\n      <td>...</td>\n      <td>4.5805</td>\n      <td>246.35</td>\n      <td>15.98426</td>\n      <td>0.934253</td>\n      <td>96.50529</td>\n      <td>1.173124</td>\n      <td>-3.608120</td>\n      <td>5.602427</td>\n      <td>216.8862</td>\n      <td>caborden</td>\n    </tr>\n    <tr>\n      <td>1</td>\n      <td>200905010500</td>\n      <td>200905010559</td>\n      <td>-9999.0</td>\n      <td>-9999.0</td>\n      <td>-9999</td>\n      <td>-9999.0</td>\n      <td>-9999</td>\n      <td>17.35</td>\n      <td>94.10</td>\n      <td>97.615</td>\n      <td>...</td>\n      <td>4.1660</td>\n      <td>270.20</td>\n      <td>16.02437</td>\n      <td>0.930366</td>\n      <td>96.45525</td>\n      <td>0.464768</td>\n      <td>-1.197811</td>\n      <td>5.111681</td>\n      <td>230.7968</td>\n      <td>caborden</td>\n    </tr>\n    <tr>\n      <td>2</td>\n      <td>200905010600</td>\n      <td>200905010659</td>\n      <td>-9999.0</td>\n      <td>-9999.0</td>\n      <td>-9999</td>\n      <td>-9999.0</td>\n      <td>-9999</td>\n      <td>17.20</td>\n      <td>94.05</td>\n      <td>97.695</td>\n      <td>...</td>\n      <td>2.9580</td>\n      <td>308.55</td>\n      <td>16.23067</td>\n      <td>0.929792</td>\n      <td>96.51293</td>\n      <td>0.020962</td>\n      <td>-1.114031</td>\n      <td>4.836887</td>\n      <td>256.2281</td>\n      <td>caborden</td>\n    </tr>\n    <tr>\n      <td>3</td>\n      <td>200905010700</td>\n      <td>200905010759</td>\n      <td>-9999.0</td>\n      <td>-9999.0</td>\n      <td>-9999</td>\n      <td>-9999.0</td>\n      <td>-9999</td>\n      <td>16.35</td>\n      <td>90.65</td>\n      <td>97.770</td>\n      <td>...</td>\n      <td>3.2525</td>\n      <td>295.80</td>\n      <td>15.85245</td>\n      <td>0.929696</td>\n      <td>96.57909</td>\n      <td>0.013011</td>\n      <td>-1.371818</td>\n      <td>5.182510</td>\n      <td>273.9816</td>\n      <td>caborden</td>\n    </tr>\n    <tr>\n      <td>4</td>\n      <td>200905010800</td>\n      <td>200905010859</td>\n      <td>-9999.0</td>\n      <td>-9999.0</td>\n      <td>-9999</td>\n      <td>-9999.0</td>\n      <td>-9999</td>\n      <td>15.25</td>\n      <td>88.30</td>\n      <td>97.885</td>\n      <td>...</td>\n      <td>3.7270</td>\n      <td>293.45</td>\n      <td>14.84006</td>\n      <td>0.931850</td>\n      <td>96.66817</td>\n      <td>0.015902</td>\n      <td>-1.578047</td>\n      <td>5.456223</td>\n      <td>270.5747</td>\n      <td>caborden</td>\n    </tr>\n  </tbody>\n</table>\n<p>5 rows × 22 columns</p>\n</div>"
     },
     "metadata": {},
     "execution_count": 27
    }
   ],
   "source": [
    "bordendf.head()"
   ]
  },
  {
   "cell_type": "code",
   "execution_count": 28,
   "metadata": {},
   "outputs": [
    {
     "output_type": "execute_result",
     "data": {
      "text/plain": "name              object\nLocation          object\nCoordinates       object\nLandscape         object\nClimate           object\nReference         object\nSite PI           object\nData Available    object\ndtype: object"
     },
     "metadata": {},
     "execution_count": 28
    }
   ],
   "source": [
    "geoDF.dtypes"
   ]
  },
  {
   "cell_type": "code",
   "execution_count": 29,
   "metadata": {},
   "outputs": [
    {
     "output_type": "error",
     "ename": "NameError",
     "evalue": "name 'smallmegadf' is not defined",
     "traceback": [
      "\u001b[0;31m---------------------------------------------------------------------------\u001b[0m",
      "\u001b[0;31mNameError\u001b[0m                                 Traceback (most recent call last)",
      "\u001b[0;32m<ipython-input-29-99aea5338228>\u001b[0m in \u001b[0;36m<module>\u001b[0;34m\u001b[0m\n\u001b[0;32m----> 1\u001b[0;31m \u001b[0msmallmegadf\u001b[0m\u001b[0;34m.\u001b[0m\u001b[0mcolumns\u001b[0m\u001b[0;34m\u001b[0m\u001b[0;34m\u001b[0m\u001b[0m\n\u001b[0m",
      "\u001b[0;31mNameError\u001b[0m: name 'smallmegadf' is not defined"
     ]
    }
   ],
   "source": [
    "smallmegadf.columns"
   ]
  },
  {
   "cell_type": "code",
   "execution_count": 30,
   "metadata": {},
   "outputs": [
    {
     "output_type": "error",
     "ename": "NameError",
     "evalue": "name 'smallmegadf' is not defined",
     "traceback": [
      "\u001b[0;31m---------------------------------------------------------------------------\u001b[0m",
      "\u001b[0;31mNameError\u001b[0m                                 Traceback (most recent call last)",
      "\u001b[0;32m<ipython-input-30-99aea5338228>\u001b[0m in \u001b[0;36m<module>\u001b[0;34m\u001b[0m\n\u001b[0;32m----> 1\u001b[0;31m \u001b[0msmallmegadf\u001b[0m\u001b[0;34m.\u001b[0m\u001b[0mcolumns\u001b[0m\u001b[0;34m\u001b[0m\u001b[0;34m\u001b[0m\u001b[0m\n\u001b[0m",
      "\u001b[0;31mNameError\u001b[0m: name 'smallmegadf' is not defined"
     ]
    }
   ],
   "source": [
    "smallmegadf.columns"
   ]
  },
  {
   "cell_type": "code",
   "execution_count": 31,
   "metadata": {},
   "outputs": [
    {
     "output_type": "error",
     "ename": "NameError",
     "evalue": "name 'smallmegadf' is not defined",
     "traceback": [
      "\u001b[0;31m---------------------------------------------------------------------------\u001b[0m",
      "\u001b[0;31mNameError\u001b[0m                                 Traceback (most recent call last)",
      "\u001b[0;32m<ipython-input-31-ea10f757e0c4>\u001b[0m in \u001b[0;36m<module>\u001b[0;34m\u001b[0m\n\u001b[0;32m----> 1\u001b[0;31m \u001b[0msmallmega2\u001b[0m \u001b[0;34m=\u001b[0m \u001b[0msmallmegadf\u001b[0m\u001b[0;34m.\u001b[0m\u001b[0mfilter\u001b[0m\u001b[0;34m(\u001b[0m\u001b[0;34m[\u001b[0m\u001b[0;34m'Delta_18O'\u001b[0m\u001b[0;34m,\u001b[0m\u001b[0;34m'Delta_D'\u001b[0m\u001b[0;34m,\u001b[0m\u001b[0;34m'Latitude'\u001b[0m\u001b[0;34m,\u001b[0m \u001b[0;34m'Longitude'\u001b[0m\u001b[0;34m,\u001b[0m \u001b[0;34m'TIMESTAMP'\u001b[0m\u001b[0;34m]\u001b[0m\u001b[0;34m)\u001b[0m\u001b[0;34m.\u001b[0m\u001b[0mdropna\u001b[0m\u001b[0;34m(\u001b[0m\u001b[0;34m)\u001b[0m\u001b[0;34m\u001b[0m\u001b[0;34m\u001b[0m\u001b[0m\n\u001b[0m",
      "\u001b[0;31mNameError\u001b[0m: name 'smallmegadf' is not defined"
     ]
    }
   ],
   "source": [
    "smallmega2 = smallmegadf.filter(['Delta_18O','Delta_D','Latitude', 'Longitude', 'TIMESTAMP']).dropna()"
   ]
  },
  {
   "cell_type": "code",
   "execution_count": 32,
   "metadata": {},
   "outputs": [
    {
     "output_type": "error",
     "ename": "NameError",
     "evalue": "name 'smallmega2' is not defined",
     "traceback": [
      "\u001b[0;31m---------------------------------------------------------------------------\u001b[0m",
      "\u001b[0;31mNameError\u001b[0m                                 Traceback (most recent call last)",
      "\u001b[0;32m<ipython-input-32-7e329beb479d>\u001b[0m in \u001b[0;36m<module>\u001b[0;34m\u001b[0m\n\u001b[0;32m----> 1\u001b[0;31m \u001b[0msmallmega2\u001b[0m\u001b[0;34m.\u001b[0m\u001b[0mTIMESTAMP\u001b[0m \u001b[0;34m=\u001b[0m \u001b[0msmallmega2\u001b[0m\u001b[0;34m.\u001b[0m\u001b[0mTIMESTAMP\u001b[0m\u001b[0;34m.\u001b[0m\u001b[0mastype\u001b[0m\u001b[0;34m(\u001b[0m\u001b[0mint\u001b[0m\u001b[0;34m)\u001b[0m\u001b[0;34m.\u001b[0m\u001b[0mastype\u001b[0m\u001b[0;34m(\u001b[0m\u001b[0mstr\u001b[0m\u001b[0;34m)\u001b[0m\u001b[0;34m\u001b[0m\u001b[0;34m\u001b[0m\u001b[0m\n\u001b[0m",
      "\u001b[0;31mNameError\u001b[0m: name 'smallmega2' is not defined"
     ]
    }
   ],
   "source": [
    "smallmega2.TIMESTAMP = smallmega2.TIMESTAMP.astype(int).astype(str)"
   ]
  },
  {
   "cell_type": "code",
   "execution_count": 33,
   "metadata": {},
   "outputs": [
    {
     "output_type": "error",
     "ename": "NameError",
     "evalue": "name 'smallmega2' is not defined",
     "traceback": [
      "\u001b[0;31m---------------------------------------------------------------------------\u001b[0m",
      "\u001b[0;31mNameError\u001b[0m                                 Traceback (most recent call last)",
      "\u001b[0;32m<ipython-input-33-6b771c329394>\u001b[0m in \u001b[0;36m<module>\u001b[0;34m\u001b[0m\n\u001b[0;32m----> 1\u001b[0;31m \u001b[0msmallmega2\u001b[0m\u001b[0;34m.\u001b[0m\u001b[0mdtypes\u001b[0m\u001b[0;34m\u001b[0m\u001b[0;34m\u001b[0m\u001b[0m\n\u001b[0m",
      "\u001b[0;31mNameError\u001b[0m: name 'smallmega2' is not defined"
     ]
    }
   ],
   "source": [
    "smallmega2.dtypes"
   ]
  },
  {
   "cell_type": "code",
   "execution_count": 34,
   "metadata": {},
   "outputs": [
    {
     "output_type": "error",
     "ename": "NameError",
     "evalue": "name 'smallmega2' is not defined",
     "traceback": [
      "\u001b[0;31m---------------------------------------------------------------------------\u001b[0m",
      "\u001b[0;31mNameError\u001b[0m                                 Traceback (most recent call last)",
      "\u001b[0;32m<ipython-input-34-cb43ed577995>\u001b[0m in \u001b[0;36m<module>\u001b[0;34m\u001b[0m\n\u001b[0;32m----> 1\u001b[0;31m \u001b[0msmallmega2\u001b[0m\u001b[0;34m\u001b[0m\u001b[0;34m\u001b[0m\u001b[0m\n\u001b[0m",
      "\u001b[0;31mNameError\u001b[0m: name 'smallmega2' is not defined"
     ]
    }
   ],
   "source": [
    "smallmega2"
   ]
  },
  {
   "cell_type": "code",
   "execution_count": 35,
   "metadata": {},
   "outputs": [
    {
     "output_type": "error",
     "ename": "NameError",
     "evalue": "name 'smallmega2' is not defined",
     "traceback": [
      "\u001b[0;31m---------------------------------------------------------------------------\u001b[0m",
      "\u001b[0;31mNameError\u001b[0m                                 Traceback (most recent call last)",
      "\u001b[0;32m<ipython-input-35-89d298411fff>\u001b[0m in \u001b[0;36m<module>\u001b[0;34m\u001b[0m\n\u001b[0;32m----> 1\u001b[0;31m \u001b[0msmallmega2\u001b[0m\u001b[0;34m.\u001b[0m\u001b[0mto_csv\u001b[0m\u001b[0;34m(\u001b[0m\u001b[0;34m'./smallmega.csv'\u001b[0m\u001b[0;34m)\u001b[0m\u001b[0;34m\u001b[0m\u001b[0;34m\u001b[0m\u001b[0m\n\u001b[0m",
      "\u001b[0;31mNameError\u001b[0m: name 'smallmega2' is not defined"
     ]
    }
   ],
   "source": [
    "smallmega2.to_csv('./smallmega.csv')"
   ]
  },
  {
   "cell_type": "code",
   "execution_count": 36,
   "metadata": {},
   "outputs": [],
   "source": [
    "trinitydf = pd.read_csv('./isotope-data/AU-TrinityBeach.csv')"
   ]
  },
  {
   "cell_type": "code",
   "execution_count": 37,
   "metadata": {},
   "outputs": [
    {
     "output_type": "execute_result",
     "data": {
      "text/plain": "      TIMESTAMP  Delta_18O  Delta_D Latitude Longitude Landscape\n0  2.010000e+11     -12.03   -74.93   16.79S   145.70E     Coast\n1  2.010000e+11     -11.99   -74.94   16.79S   145.70E     Coast\n2  2.010000e+11     -11.90   -75.01   16.79S   145.70E     Coast\n3  2.010000e+11     -11.87   -75.09   16.79S   145.70E     Coast\n4  2.010000e+11     -11.97   -75.13   16.79S   145.70E     Coast",
      "text/html": "<div>\n<style scoped>\n    .dataframe tbody tr th:only-of-type {\n        vertical-align: middle;\n    }\n\n    .dataframe tbody tr th {\n        vertical-align: top;\n    }\n\n    .dataframe thead th {\n        text-align: right;\n    }\n</style>\n<table border=\"1\" class=\"dataframe\">\n  <thead>\n    <tr style=\"text-align: right;\">\n      <th></th>\n      <th>TIMESTAMP</th>\n      <th>Delta_18O</th>\n      <th>Delta_D</th>\n      <th>Latitude</th>\n      <th>Longitude</th>\n      <th>Landscape</th>\n    </tr>\n  </thead>\n  <tbody>\n    <tr>\n      <td>0</td>\n      <td>2.010000e+11</td>\n      <td>-12.03</td>\n      <td>-74.93</td>\n      <td>16.79S</td>\n      <td>145.70E</td>\n      <td>Coast</td>\n    </tr>\n    <tr>\n      <td>1</td>\n      <td>2.010000e+11</td>\n      <td>-11.99</td>\n      <td>-74.94</td>\n      <td>16.79S</td>\n      <td>145.70E</td>\n      <td>Coast</td>\n    </tr>\n    <tr>\n      <td>2</td>\n      <td>2.010000e+11</td>\n      <td>-11.90</td>\n      <td>-75.01</td>\n      <td>16.79S</td>\n      <td>145.70E</td>\n      <td>Coast</td>\n    </tr>\n    <tr>\n      <td>3</td>\n      <td>2.010000e+11</td>\n      <td>-11.87</td>\n      <td>-75.09</td>\n      <td>16.79S</td>\n      <td>145.70E</td>\n      <td>Coast</td>\n    </tr>\n    <tr>\n      <td>4</td>\n      <td>2.010000e+11</td>\n      <td>-11.97</td>\n      <td>-75.13</td>\n      <td>16.79S</td>\n      <td>145.70E</td>\n      <td>Coast</td>\n    </tr>\n  </tbody>\n</table>\n</div>"
     },
     "metadata": {},
     "execution_count": 37
    }
   ],
   "source": [
    "trinitydf.head()"
   ]
  },
  {
   "cell_type": "code",
   "execution_count": 38,
   "metadata": {},
   "outputs": [
    {
     "output_type": "execute_result",
     "data": {
      "text/plain": "TIMESTAMP    float64\nDelta_18O    float64\nDelta_D      float64\nLatitude      object\nLongitude     object\nLandscape     object\ndtype: object"
     },
     "metadata": {},
     "execution_count": 38
    }
   ],
   "source": []
  },
  {
   "cell_type": "code",
   "execution_count": null,
   "metadata": {},
   "outputs": [],
   "source": []
  },
  {
   "cell_type": "code",
   "execution_count": null,
   "metadata": {},
   "outputs": [],
   "source": []
  }
 ],
 "metadata": {
  "language_info": {
   "codemirror_mode": {
    "name": "ipython",
    "version": 3
   },
   "file_extension": ".py",
   "mimetype": "text/x-python",
   "name": "python",
   "nbconvert_exporter": "python",
   "pygments_lexer": "ipython3",
   "version": "3.8.1-final"
  },
  "orig_nbformat": 2,
  "kernelspec": {
   "name": "15f108f3-5bc3-4783-89a4-11e07db949ed",
   "display_name": "'Python Interactive'"
  }
 },
 "nbformat": 4,
 "nbformat_minor": 2
}
{
 "cells": [
  {
   "cell_type": "code",
   "execution_count": 1,
   "metadata": {},
   "outputs": [],
   "source": [
    "import pandas as pd \n",
    "import os"
   ]
  },
  {
   "cell_type": "code",
   "execution_count": 2,
   "metadata": {},
   "outputs": [],
   "source": [
    "geoDF = pd.read_csv('./geodata.csv', index_col = 0)"
   ]
  },
  {
   "cell_type": "code",
   "execution_count": 3,
   "metadata": {},
   "outputs": [
    {
     "data": {
      "text/html": [
       "<div>\n",
       "<style scoped>\n",
       "    .dataframe tbody tr th:only-of-type {\n",
       "        vertical-align: middle;\n",
       "    }\n",
       "\n",
       "    .dataframe tbody tr th {\n",
       "        vertical-align: top;\n",
       "    }\n",
       "\n",
       "    .dataframe thead th {\n",
       "        text-align: right;\n",
       "    }\n",
       "</style>\n",
       "<table border=\"1\" class=\"dataframe\">\n",
       "  <thead>\n",
       "    <tr style=\"text-align: right;\">\n",
       "      <th></th>\n",
       "      <th>Site Name</th>\n",
       "      <th>Location</th>\n",
       "      <th>Coordinates</th>\n",
       "      <th>Landscape</th>\n",
       "      <th>Climate</th>\n",
       "      <th>Reference</th>\n",
       "      <th>Site PI</th>\n",
       "      <th>Data Available</th>\n",
       "    </tr>\n",
       "    <tr>\n",
       "      <th>Site ID</th>\n",
       "      <th></th>\n",
       "      <th></th>\n",
       "      <th></th>\n",
       "      <th></th>\n",
       "      <th></th>\n",
       "      <th></th>\n",
       "      <th></th>\n",
       "      <th></th>\n",
       "    </tr>\n",
       "  </thead>\n",
       "  <tbody>\n",
       "    <tr>\n",
       "      <th>1</th>\n",
       "      <td>Bermuda Island</td>\n",
       "      <td>Bermuda Island, England</td>\n",
       "      <td>32°15’N, 64°52’W</td>\n",
       "      <td>Coast</td>\n",
       "      <td>Dwa</td>\n",
       "      <td>Steen-Larsen et al. (2015)</td>\n",
       "      <td>Hans Christian Steen-Larsen</td>\n",
       "      <td>In prep.</td>\n",
       "    </tr>\n",
       "    <tr>\n",
       "      <th>2</th>\n",
       "      <td>Beijing</td>\n",
       "      <td>Beijing, China</td>\n",
       "      <td>40°0’N, 116°3’E</td>\n",
       "      <td>Urban</td>\n",
       "      <td>Dwa</td>\n",
       "      <td>Wen et al. (2010)</td>\n",
       "      <td>Xuhui Lee and Xuefa Wen</td>\n",
       "      <td>Yes</td>\n",
       "    </tr>\n",
       "    <tr>\n",
       "      <th>3</th>\n",
       "      <td>Borden</td>\n",
       "      <td>Borden, Canada</td>\n",
       "      <td>44°9′N, 79°6′W</td>\n",
       "      <td>forest</td>\n",
       "      <td>Dfb</td>\n",
       "      <td>Santos et al. (2012)</td>\n",
       "      <td>Xuhui Lee</td>\n",
       "      <td>Yes</td>\n",
       "    </tr>\n",
       "    <tr>\n",
       "      <th>4</th>\n",
       "      <td>Camargue</td>\n",
       "      <td>Vaccarès lagoon, France</td>\n",
       "      <td>43°35’N, 4°28’E</td>\n",
       "      <td>Wetland</td>\n",
       "      <td>Csb</td>\n",
       "      <td>Delattre et al. (2015)</td>\n",
       "      <td>Christine Vallet-Coulomb</td>\n",
       "      <td>Yes</td>\n",
       "    </tr>\n",
       "    <tr>\n",
       "      <th>5</th>\n",
       "      <td>Dome C</td>\n",
       "      <td>Concordia, South Pole</td>\n",
       "      <td>75°06′S, 123°23′E</td>\n",
       "      <td>Ice Sheet</td>\n",
       "      <td>-</td>\n",
       "      <td>Casado et al (2016)</td>\n",
       "      <td>Mathieu Casado</td>\n",
       "      <td>Yes</td>\n",
       "    </tr>\n",
       "  </tbody>\n",
       "</table>\n",
       "</div>"
      ],
      "text/plain": [
       "              Site Name                  Location        Coordinates  \\\n",
       "Site ID                                                                \n",
       "1        Bermuda Island   Bermuda Island, England   32°15’N, 64°52’W   \n",
       "2               Beijing            Beijing, China    40°0’N, 116°3’E   \n",
       "3                Borden            Borden, Canada     44°9′N, 79°6′W   \n",
       "4              Camargue  Vaccarès lagoon, France    43°35’N, 4°28’E   \n",
       "5                Dome C     Concordia, South Pole  75°06′S, 123°23′E   \n",
       "\n",
       "         Landscape Climate                   Reference  \\\n",
       "Site ID                                                  \n",
       "1            Coast     Dwa  Steen-Larsen et al. (2015)   \n",
       "2            Urban     Dwa           Wen et al. (2010)   \n",
       "3           forest     Dfb        Santos et al. (2012)   \n",
       "4          Wetland     Csb      Delattre et al. (2015)   \n",
       "5        Ice Sheet       -         Casado et al (2016)   \n",
       "\n",
       "                             Site PI Data Available  \n",
       "Site ID                                              \n",
       "1        Hans Christian Steen-Larsen       In prep.  \n",
       "2            Xuhui Lee and Xuefa Wen            Yes  \n",
       "3                          Xuhui Lee            Yes  \n",
       "4           Christine Vallet-Coulomb            Yes  \n",
       "5                     Mathieu Casado            Yes  "
      ]
     },
     "execution_count": 3,
     "metadata": {},
     "output_type": "execute_result"
    }
   ],
   "source": [
    "geoDF.head()"
   ]
  },
  {
   "cell_type": "code",
   "execution_count": 4,
   "metadata": {},
   "outputs": [
    {
     "name": "stdout",
     "output_type": "stream",
     "text": [
      "./isotope-data/JP-Nagoya.csv\n",
      "./isotope-data/Ship-RARAAVIS.csv\n",
      "Ship-RARAAVIS.csv has nontrivial data\n",
      "./isotope-data/SP-Teide.csv\n",
      "SP-Teide.csv has nontrivial data\n",
      "./isotope-data/Ship-PIRATAFR24.csv\n",
      "Ship-PIRATAFR24.csv has nontrivial data\n",
      "./isotope-data/US-NewHaven.csv\n",
      "US-NewHaven.csv has nontrivial data\n",
      "./isotope-data/CN-Gaoqiao.csv\n",
      "CN-Gaoqiao.csv has nontrivial data\n",
      "./isotope-data/AP-Kohnen.csv\n",
      "AP-Kohnen.csv has nontrivial data\n",
      "./isotope-data/CH-Rietholzbach.csv\n",
      "CH-Rietholzbach.csv has nontrivial data\n",
      "./isotope-data/AP-DomeC.csv\n",
      "AP-DomeC.csv has nontrivial data\n",
      "./isotope-data/Ship-JARE55.csv\n",
      "Ship-JARE55.csv has nontrivial data\n",
      "./isotope-data/US-Rosemount_G21.csv\n",
      "./isotope-data/Ship-Bermuda.csv\n",
      "Ship-Bermuda.csv has nontrivial data\n",
      "./isotope-data/CN-Beijing.csv\n",
      "CN-Beijing.csv has nontrivial data\n",
      "./isotope-data/Ship-ACTIV.csv\n",
      "Ship-ACTIV.csv has nontrivial data\n",
      "./isotope-data/RU-Kourovka.csv\n",
      "RU-Kourovka.csv has nontrivial data\n",
      "./isotope-data/US-ManitouForest.csv\n",
      "US-ManitouForest.csv has nontrivial data\n",
      "./isotope-data/DE-Karlsruhe.csv\n",
      "DE-Karlsruhe.csv has nontrivial data\n",
      "./isotope-data/SP-Izana.csv\n",
      "SP-Izana.csv has nontrivial data\n",
      "./isotope-data/US-GreatMountain.csv\n",
      "./isotope-data/AU-TrinityBeach.csv\n",
      "AU-TrinityBeach.csv has nontrivial data\n",
      "./isotope-data/JP-Mase.csv\n",
      "JP-Mase.csv has nontrivial data\n",
      "./isotope-data/ROC-Taibei.csv\n",
      "ROC-Taibei.csv has nontrivial data\n",
      "./isotope-data/US-Rosemount_Talltower.csv\n",
      "./isotope-data/CN-Taihu.csv\n",
      "CN-Taihu.csv has nontrivial data\n",
      "./isotope-data/GL-NEEM.csv\n",
      "GL-NEEM.csv has nontrivial data\n",
      "./isotope-data/US-NiwotRidge.csv\n",
      "US-NiwotRidge.csv has nontrivial data\n",
      "./isotope-data/Ship-STRASSE.csv\n",
      "Ship-STRASSE.csv has nontrivial data\n",
      "./isotope-data/CN-Heihe.csv\n",
      "CN-Heihe.csv has nontrivial data\n",
      "./isotope-data/FR-Camargue.csv\n",
      "FR-Camargue.csv has nontrivial data\n",
      "./isotope-data/GL-Ivittuut.csv\n",
      "GL-Ivittuut.csv has nontrivial data\n",
      "./isotope-data/CN-Luancheng.csv\n",
      "CN-Luancheng.csv has nontrivial data\n",
      "./isotope-data/CN-Qianyanzhou.csv\n",
      "CN-Qianyanzhou.csv has nontrivial data\n",
      "./isotope-data/CN-Duolun.csv\n",
      "CN-Duolun.csv has nontrivial data\n",
      "./isotope-data/CA-Borden.csv\n",
      "./isotope-data/Flight-LasPalmas.csv\n",
      "./isotope-data/KE-Mapla.csv\n"
     ]
    }
   ],
   "source": [
    "isodfs = []\n",
    "isopath = \"./isotope-data/\"\n",
    "for filename in os.listdir(isopath):\n",
    "    print(isopath + filename)\n",
    "    df = pd.read_csv(isopath + filename)\n",
    "    if 'Delta_18O' in df.columns and 'Delta_D' in df.columns:\n",
    "        df = df[df['Delta_18O'] != -9999]\n",
    "        df = df[df['Delta_D'] != -9999]\n",
    "        \n",
    "        if(len(df.index) > 0):\n",
    "            print(filename + \" has nontrivial data\")\n",
    "            isodfs.append(df)\n",
    "    "
   ]
  },
  {
   "cell_type": "code",
   "execution_count": 5,
   "metadata": {},
   "outputs": [
    {
     "name": "stderr",
     "output_type": "stream",
     "text": [
      "<ipython-input-5-d583c737bb1a>:1: FutureWarning: Sorting because non-concatenation axis is not aligned. A future version\n",
      "of pandas will change to not sort by default.\n",
      "\n",
      "To accept the future behavior, pass 'sort=False'.\n",
      "\n",
      "To retain the current behavior and silence the warning, pass 'sort=True'.\n",
      "\n",
      "  megadf = pd.concat(isodfs).filter(['Delta_18O', 'Delta_D', 'Latitude', 'Longitude', 'TIMESTAMP', 'TIMESTAMP_START'])\n"
     ]
    }
   ],
   "source": [
    "megadf = pd.concat(isodfs).filter(['Delta_18O', 'Delta_D', 'Latitude', 'Longitude', 'TIMESTAMP', 'TIMESTAMP_START'])"
   ]
  },
  {
   "cell_type": "code",
   "execution_count": 6,
   "metadata": {},
   "outputs": [
    {
     "data": {
      "text/plain": [
       "Index(['Delta_18O', 'Delta_D', 'Latitude', 'TIMESTAMP', 'TIMESTAMP_START'], dtype='object')"
      ]
     },
     "execution_count": 6,
     "metadata": {},
     "output_type": "execute_result"
    }
   ],
   "source": [
    "megadf.columns"
   ]
  },
  {
   "cell_type": "code",
   "execution_count": 7,
   "metadata": {},
   "outputs": [
    {
     "data": {
      "text/html": [
       "<div>\n",
       "<style scoped>\n",
       "    .dataframe tbody tr th:only-of-type {\n",
       "        vertical-align: middle;\n",
       "    }\n",
       "\n",
       "    .dataframe tbody tr th {\n",
       "        vertical-align: top;\n",
       "    }\n",
       "\n",
       "    .dataframe thead th {\n",
       "        text-align: right;\n",
       "    }\n",
       "</style>\n",
       "<table border=\"1\" class=\"dataframe\">\n",
       "  <thead>\n",
       "    <tr style=\"text-align: right;\">\n",
       "      <th></th>\n",
       "      <th>Delta_18O</th>\n",
       "      <th>Delta_D</th>\n",
       "      <th>Latitude</th>\n",
       "      <th>TIMESTAMP</th>\n",
       "      <th>TIMESTAMP_START</th>\n",
       "    </tr>\n",
       "  </thead>\n",
       "  <tbody>\n",
       "    <tr>\n",
       "      <th>0</th>\n",
       "      <td>-14.56</td>\n",
       "      <td>-104.74</td>\n",
       "      <td>5.065</td>\n",
       "      <td>2.014050e+11</td>\n",
       "      <td>NaN</td>\n",
       "    </tr>\n",
       "    <tr>\n",
       "      <th>1</th>\n",
       "      <td>-14.23</td>\n",
       "      <td>-102.42</td>\n",
       "      <td>5.018</td>\n",
       "      <td>2.014050e+11</td>\n",
       "      <td>NaN</td>\n",
       "    </tr>\n",
       "    <tr>\n",
       "      <th>2</th>\n",
       "      <td>-13.91</td>\n",
       "      <td>-99.90</td>\n",
       "      <td>4.971</td>\n",
       "      <td>2.014050e+11</td>\n",
       "      <td>NaN</td>\n",
       "    </tr>\n",
       "    <tr>\n",
       "      <th>3</th>\n",
       "      <td>-13.63</td>\n",
       "      <td>-97.58</td>\n",
       "      <td>4.923</td>\n",
       "      <td>2.014050e+11</td>\n",
       "      <td>NaN</td>\n",
       "    </tr>\n",
       "    <tr>\n",
       "      <th>4</th>\n",
       "      <td>-13.45</td>\n",
       "      <td>-96.17</td>\n",
       "      <td>4.875</td>\n",
       "      <td>2.014050e+11</td>\n",
       "      <td>NaN</td>\n",
       "    </tr>\n",
       "  </tbody>\n",
       "</table>\n",
       "</div>"
      ],
      "text/plain": [
       "   Delta_18O  Delta_D  Latitude     TIMESTAMP  TIMESTAMP_START\n",
       "0     -14.56  -104.74     5.065  2.014050e+11              NaN\n",
       "1     -14.23  -102.42     5.018  2.014050e+11              NaN\n",
       "2     -13.91   -99.90     4.971  2.014050e+11              NaN\n",
       "3     -13.63   -97.58     4.923  2.014050e+11              NaN\n",
       "4     -13.45   -96.17     4.875  2.014050e+11              NaN"
      ]
     },
     "execution_count": 7,
     "metadata": {},
     "output_type": "execute_result"
    }
   ],
   "source": [
    "megadf.head()"
   ]
  },
  {
   "cell_type": "code",
   "execution_count": null,
   "metadata": {},
   "outputs": [],
   "source": []
  },
  {
   "cell_type": "code",
   "execution_count": null,
   "metadata": {},
   "outputs": [],
   "source": []
  },
  {
   "cell_type": "code",
   "execution_count": null,
   "metadata": {},
   "outputs": [],
   "source": []
  },
  {
   "cell_type": "code",
   "execution_count": null,
   "metadata": {},
   "outputs": [],
   "source": []
  }
 ],
 "metadata": {
  "kernelspec": {
   "display_name": "Python 3",
   "language": "python",
   "name": "python3"
  },
  "language_info": {
   "codemirror_mode": {
    "name": "ipython",
    "version": 3
   },
   "file_extension": ".py",
   "mimetype": "text/x-python",
   "name": "python",
   "nbconvert_exporter": "python",
   "pygments_lexer": "ipython3",
   "version": "3.8.0"
  }
 },
 "nbformat": 4,
 "nbformat_minor": 4
}

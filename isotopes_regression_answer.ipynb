{
 "cells": [
  {
   "cell_type": "markdown",
   "metadata": {},
   "source": [
    "\n",
    "CALCULATE A REGRESSION LINE TO PREDICT THE \n",
    "OXYGEN-18 ISOTOPE  , Delta_18O, VERSUS THE DEUTERIUM, Delta_D, ONE OF THE TWO ISOTOPES OF \n",
    "HYDROGEN .\n"
   ]
  },
  {
   "cell_type": "code",
   "execution_count": 1,
   "metadata": {},
   "outputs": [],
   "source": [
    "# Import dependencies\n",
    "import pandas as pd\n",
    "\n",
    "import matplotlib.pyplot as plt\n",
    "import numpy as np\n",
    "\n",
    "from sklearn.datasets import make_regression\n",
    "from sklearn.linear_model import LinearRegression\n",
    "%matplotlib inline\n",
    "# Hide warning messages in notebook\n",
    "import warnings\n",
    "warnings.filterwarnings('ignore')"
   ]
  },
  {
   "cell_type": "code",
   "execution_count": 2,
   "metadata": {},
   "outputs": [
    {
     "data": {
      "text/html": [
       "<div>\n",
       "<style scoped>\n",
       "    .dataframe tbody tr th:only-of-type {\n",
       "        vertical-align: middle;\n",
       "    }\n",
       "\n",
       "    .dataframe tbody tr th {\n",
       "        vertical-align: top;\n",
       "    }\n",
       "\n",
       "    .dataframe thead th {\n",
       "        text-align: right;\n",
       "    }\n",
       "</style>\n",
       "<table border=\"1\" class=\"dataframe\">\n",
       "  <thead>\n",
       "    <tr style=\"text-align: right;\">\n",
       "      <th></th>\n",
       "      <th>TIMESTAMP</th>\n",
       "      <th>Delta_18O</th>\n",
       "      <th>Delta_D</th>\n",
       "      <th>Latitude</th>\n",
       "      <th>Longitude</th>\n",
       "      <th>Landscape</th>\n",
       "      <th>Country</th>\n",
       "      <th>Name</th>\n",
       "      <th>sLatitude</th>\n",
       "      <th>sLongitude</th>\n",
       "    </tr>\n",
       "  </thead>\n",
       "  <tbody>\n",
       "    <tr>\n",
       "      <th>0</th>\n",
       "      <td>201306181500</td>\n",
       "      <td>-13.640750</td>\n",
       "      <td>-126.381000</td>\n",
       "      <td>28.3N</td>\n",
       "      <td>16.5W</td>\n",
       "      <td>Mountain</td>\n",
       "      <td>SP</td>\n",
       "      <td>Teide</td>\n",
       "      <td>28.3</td>\n",
       "      <td>-16.5</td>\n",
       "    </tr>\n",
       "    <tr>\n",
       "      <th>1</th>\n",
       "      <td>201306181600</td>\n",
       "      <td>-15.774167</td>\n",
       "      <td>-145.946000</td>\n",
       "      <td>28.3N</td>\n",
       "      <td>16.5W</td>\n",
       "      <td>Mountain</td>\n",
       "      <td>SP</td>\n",
       "      <td>Teide</td>\n",
       "      <td>28.3</td>\n",
       "      <td>-16.5</td>\n",
       "    </tr>\n",
       "    <tr>\n",
       "      <th>2</th>\n",
       "      <td>201306181700</td>\n",
       "      <td>-20.673000</td>\n",
       "      <td>-182.658333</td>\n",
       "      <td>28.3N</td>\n",
       "      <td>16.5W</td>\n",
       "      <td>Mountain</td>\n",
       "      <td>SP</td>\n",
       "      <td>Teide</td>\n",
       "      <td>28.3</td>\n",
       "      <td>-16.5</td>\n",
       "    </tr>\n",
       "    <tr>\n",
       "      <th>3</th>\n",
       "      <td>201306181800</td>\n",
       "      <td>-25.917500</td>\n",
       "      <td>-223.841500</td>\n",
       "      <td>28.3N</td>\n",
       "      <td>16.5W</td>\n",
       "      <td>Mountain</td>\n",
       "      <td>SP</td>\n",
       "      <td>Teide</td>\n",
       "      <td>28.3</td>\n",
       "      <td>-16.5</td>\n",
       "    </tr>\n",
       "    <tr>\n",
       "      <th>4</th>\n",
       "      <td>201306181900</td>\n",
       "      <td>-26.898667</td>\n",
       "      <td>-231.194333</td>\n",
       "      <td>28.3N</td>\n",
       "      <td>16.5W</td>\n",
       "      <td>Mountain</td>\n",
       "      <td>SP</td>\n",
       "      <td>Teide</td>\n",
       "      <td>28.3</td>\n",
       "      <td>-16.5</td>\n",
       "    </tr>\n",
       "  </tbody>\n",
       "</table>\n",
       "</div>"
      ],
      "text/plain": [
       "      TIMESTAMP  Delta_18O     Delta_D Latitude Longitude Landscape Country  \\\n",
       "0  201306181500 -13.640750 -126.381000    28.3N     16.5W  Mountain      SP   \n",
       "1  201306181600 -15.774167 -145.946000    28.3N     16.5W  Mountain      SP   \n",
       "2  201306181700 -20.673000 -182.658333    28.3N     16.5W  Mountain      SP   \n",
       "3  201306181800 -25.917500 -223.841500    28.3N     16.5W  Mountain      SP   \n",
       "4  201306181900 -26.898667 -231.194333    28.3N     16.5W  Mountain      SP   \n",
       "\n",
       "    Name  sLatitude  sLongitude  \n",
       "0  Teide       28.3       -16.5  \n",
       "1  Teide       28.3       -16.5  \n",
       "2  Teide       28.3       -16.5  \n",
       "3  Teide       28.3       -16.5  \n",
       "4  Teide       28.3       -16.5  "
      ]
     },
     "execution_count": 2,
     "metadata": {},
     "output_type": "execute_result"
    }
   ],
   "source": [
    "# Read the csv file into a pandas DataFrame\n",
    "mega_df=pd.read_csv('./mega.csv', index_col = 0)\n",
    "\n",
    "mega_df.head()"
   ]
  },
  {
   "cell_type": "code",
   "execution_count": 3,
   "metadata": {},
   "outputs": [
    {
     "name": "stdout",
     "output_type": "stream",
     "text": [
      "Shape:  (138365, 1) (138365, 1)\n"
     ]
    }
   ],
   "source": [
    "\"\"\" Quantifying Linear Regression\n",
    " Relationship between Delta_18O and Delta_D\n",
    " Assign the data to X and y \n",
    "Note: Sklearn requires a two-dimensional array of values\"\"\"\n",
    "\n",
    "X = mega_df[\"Delta_18O\"].values.reshape(-1, 1)\n",
    "\n",
    "y = mega_df[\"Delta_D\"].values.reshape(-1, 1)\n",
    "\n",
    "print(\"Shape: \", X.shape, y.shape)\n"
   ]
  },
  {
   "cell_type": "code",
   "execution_count": 4,
   "metadata": {},
   "outputs": [
    {
     "name": "stdout",
     "output_type": "stream",
     "text": [
      "A linear trend exist between Delta_18O and Delta_D water\n"
     ]
    },
    {
     "data": {
      "image/png": "[encoded data removed]",
      "text/plain": [
       "<Figure size 432x288 with 1 Axes>"
      ]
     },
     "metadata": {
      "needs_background": "light"
     },
     "output_type": "display_data"
    }
   ],
   "source": [
    "# Scatter plot the data to see if a linear trend exists\n",
    "\n",
    "plt.scatter(X, y)\n",
    "\n",
    "plt.xlabel(\"Delta_18O\")\n",
    "plt.ylabel(\"Delta_D\")\n",
    "plt.title(\"Relationship between Delta_18O and Delta_D \")\n",
    "\n",
    "print(\"A linear trend exist between Delta_18O and Delta_D water\")\n"
   ]
  },
  {
   "cell_type": "code",
   "execution_count": 5,
   "metadata": {},
   "outputs": [],
   "source": [
    "mega_df=mega_df.head(500)\n",
    "X = mega_df[\"Delta_18O\"].values.reshape(-1, 1)\n",
    "y = mega_df[\"Delta_D\"].values.reshape(-1, 1)\n",
    "from sklearn.linear_model import LinearRegression\n",
    "model = LinearRegression()\n",
    "# Use sklearn's `train_test_split` to split the data into training and testing\n",
    "\n",
    "from sklearn.model_selection import train_test_split\n",
    "\n",
    "X_train, X_test, y_train, y_test = train_test_split(X, y, random_state=42)\n"
   ]
  },
  {
   "cell_type": "code",
   "execution_count": 6,
   "metadata": {},
   "outputs": [
    {
     "name": "stdout",
     "output_type": "stream",
     "text": [
      "Mean Squared Error (MSE): 128.09062293227183\n",
      "R-squared (R2 ): 0.9801120413258104\n"
     ]
    },
    {
     "data": {
      "text/plain": [
       "0.9801120413258104"
      ]
     },
     "execution_count": 6,
     "metadata": {},
     "output_type": "execute_result"
    }
   ],
   "source": [
    "#Train the model using the training data\n",
    "model.fit(X_train, y_train)\n",
    "\n",
    "\n",
    "# Use our model to make Hydrogen Isotope Prediction\n",
    "predicted = model.predict(X_test)\n",
    "\n",
    "\"\"\" \n",
    "Score the predictions with mse and r2\n",
    "Calculate the mean_squared_error and the r-squared value\n",
    " for the testing data \"\"\"\n",
    "\n",
    "from sklearn.metrics import mean_squared_error, r2_score\n",
    "\n",
    "mse = mean_squared_error(y_test, predicted)\n",
    "\n",
    "r2 = r2_score(y_test, predicted)\n",
    "\n",
    "print(f\"Mean Squared Error (MSE): {mse}\")\n",
    "print(f\"R-squared (R2 ): {r2}\")\n",
    "\n",
    "#And score the model using the unseen testing data\n",
    "model.score(X_test, y_test)\n"
   ]
  },
  {
   "cell_type": "code",
   "execution_count": 7,
   "metadata": {},
   "outputs": [
    {
     "name": "stdout",
     "output_type": "stream",
     "text": [
      "The Global  Water Line shows that the water isotope \n",
      "      values do not converge along a single straight line. \n",
      "      There are some branches that diverge from the main fitted line.\n",
      "      This phenomenon suggests that different  water lines prevail in different regions. \n"
     ]
    },
    {
     "data": {
      "image/png": "[encoded data removed]",
      "text/plain": [
       "<Figure size 432x288 with 1 Axes>"
      ]
     },
     "metadata": {
      "needs_background": "light"
     },
     "output_type": "display_data"
    }
   ],
   "source": [
    "\"\"\"We can view the coefficients and intercept of the line from the coef_ and intercept_ attributes.\n",
    "#Note that the _ suffix indicates that the attribute is available after model is fit to the data (trained).\"\"\"\n",
    "\n",
    "a=model.coef_\n",
    "b=model.intercept_\n",
    "y_predict = a*X_train + b\n",
    "\n",
    "plt.scatter(X_train,y_train)\n",
    "plt.plot(X_train, y_predict, color=\"r\")\n",
    "\n",
    "plt.xlabel(\"Delta_18O\")\n",
    "plt.ylabel(\"Delta_D\")\n",
    "plt.title(\"Asymetric relationship between Delta_18O and Delta_D \")\n",
    "print(\"\"\"The Global  Water Line shows that the water isotope \n",
    "      values do not converge along a single straight line. \n",
    "      There are some branches that diverge from the main fitted line.\n",
    "      This phenomenon suggests that different  water lines prevail in different regions. \"\"\")"
   ]
  },
  {
   "cell_type": "code",
   "execution_count": 8,
   "metadata": {},
   "outputs": [],
   "source": [
    "error=predicted - y_test\n"
   ]
  },
  {
   "cell_type": "code",
   "execution_count": 9,
   "metadata": {},
   "outputs": [
    {
     "data": {
      "text/html": [
       "<div>\n",
       "<style scoped>\n",
       "    .dataframe tbody tr th:only-of-type {\n",
       "        vertical-align: middle;\n",
       "    }\n",
       "\n",
       "    .dataframe tbody tr th {\n",
       "        vertical-align: top;\n",
       "    }\n",
       "\n",
       "    .dataframe thead th {\n",
       "        text-align: right;\n",
       "    }\n",
       "</style>\n",
       "<table border=\"1\" class=\"dataframe\">\n",
       "  <thead>\n",
       "    <tr style=\"text-align: right;\">\n",
       "      <th></th>\n",
       "      <th>Predicted</th>\n",
       "      <th>Actual</th>\n",
       "      <th>Error</th>\n",
       "    </tr>\n",
       "  </thead>\n",
       "  <tbody>\n",
       "    <tr>\n",
       "      <th>0</th>\n",
       "      <td>-196.890568</td>\n",
       "      <td>-194.380667</td>\n",
       "      <td>-2.509901</td>\n",
       "    </tr>\n",
       "    <tr>\n",
       "      <th>1</th>\n",
       "      <td>-296.756791</td>\n",
       "      <td>-284.163667</td>\n",
       "      <td>-12.593124</td>\n",
       "    </tr>\n",
       "    <tr>\n",
       "      <th>2</th>\n",
       "      <td>-149.758155</td>\n",
       "      <td>-147.041500</td>\n",
       "      <td>-2.716655</td>\n",
       "    </tr>\n",
       "    <tr>\n",
       "      <th>3</th>\n",
       "      <td>-141.915232</td>\n",
       "      <td>-140.571500</td>\n",
       "      <td>-1.343732</td>\n",
       "    </tr>\n",
       "    <tr>\n",
       "      <th>4</th>\n",
       "      <td>-284.322124</td>\n",
       "      <td>-280.853333</td>\n",
       "      <td>-3.468791</td>\n",
       "    </tr>\n",
       "  </tbody>\n",
       "</table>\n",
       "</div>"
      ],
      "text/plain": [
       "    Predicted      Actual      Error\n",
       "0 -196.890568 -194.380667  -2.509901\n",
       "1 -296.756791 -284.163667 -12.593124\n",
       "2 -149.758155 -147.041500  -2.716655\n",
       "3 -141.915232 -140.571500  -1.343732\n",
       "4 -284.322124 -280.853333  -3.468791"
      ]
     },
     "execution_count": 9,
     "metadata": {},
     "output_type": "execute_result"
    }
   ],
   "source": [
    "df =pd.DataFrame({\"Predicted\": predicted.reshape(-1,), \"Actual\": y_test.reshape(-1,), \"Error\": error.reshape(-1,)})\n",
    "df.head(5)"
   ]
  },
  {
   "cell_type": "code",
   "execution_count": 10,
   "metadata": {},
   "outputs": [
    {
     "data": {
      "image/png": "[encoded data removed]",
      "text/plain": [
       "<Figure size 432x288 with 1 Axes>"
      ]
     },
     "metadata": {
      "needs_background": "light"
     },
     "output_type": "display_data"
    }
   ],
   "source": [
    "# Make predictions using a fitted model\n",
    "# Plot the difference between the model predicted values and actual y values, versus the model predicted values\n",
    "# Hint: You can predict values of X training and testing data using the model.predict() method on a fitted model\n",
    "\n",
    "### BEGIN SOLUTION\n",
    "#predictions = model.predict(X_test_scaled)\n",
    "#model.fit(X_train_scaled, y_train_scaled)\n",
    "plt.scatter(model.predict(X_train), model.predict(X_train) - y_train, c=\"blue\", label=\"Training Data\")\n",
    "plt.scatter(model.predict(X_test), model.predict(X_test) - y_test, c=\"red\", label=\"Testing Data\")\n",
    "plt.legend()\n",
    "plt.hlines(y=0, xmin=y_test.min(), xmax=y_test.max())\n",
    "plt.title(\"Residual Plot\")\n",
    "plt.show()"
   ]
  },
  {
   "cell_type": "code",
   "execution_count": null,
   "metadata": {},
   "outputs": [],
   "source": []
  }
 ],
 "metadata": {
  "kernelspec": {
   "display_name": "Python 3.7.4 64-bit ('base': conda)",
   "language": "python",
   "name": "python37464bitbaseconda8399b2a7c3c9404799aa7ca3ec89ee5a"
  },
  "language_info": {
   "codemirror_mode": {
    "name": "ipython",
    "version": 3
   },
   "file_extension": ".py",
   "mimetype": "text/x-python",
   "name": "python",
   "nbconvert_exporter": "python",
   "pygments_lexer": "ipython3",
   "version": "3.7.6"
  }
 },
 "nbformat": 4,
 "nbformat_minor": 2
}
